{
 "cells": [
  {
   "cell_type": "markdown",
   "metadata": {},
   "source": [
    "# Saving and restoring models\n",
    "\n",
    "TensorFlow gives you the ability to save your progress using tf.train.Saver. This class provides the functionality to save any tf.Variable to your file system.\n",
    "\n"
   ]
  },
  {
   "cell_type": "code",
   "execution_count": 1,
   "metadata": {
    "collapsed": false
   },
   "outputs": [
    {
     "name": "stdout",
     "output_type": "stream",
     "text": [
      "Weights:\n",
      "[[-1.43552387 -0.70340478 -0.78335518]\n",
      " [ 1.48438513 -1.12358761  1.57190645]]\n",
      "Bias:\n",
      "[ 0.03582934  1.22028112  0.41342628]\n"
     ]
    }
   ],
   "source": [
    "import tensorflow as tf\n",
    "\n",
    "# The file path to save the data\n",
    "save_file = './model.ckpt'\n",
    "\n",
    "# Two Tensor Variables: weights and bias\n",
    "weights = tf.Variable(tf.truncated_normal([2, 3]))\n",
    "bias = tf.Variable(tf.truncated_normal([3]))\n",
    "\n",
    "# Class used to save and/or restore Tensor Variables\n",
    "saver = tf.train.Saver()\n",
    "\n",
    "with tf.Session() as sess:\n",
    "    # Initialize all the Variables\n",
    "    sess.run(tf.global_variables_initializer())\n",
    "\n",
    "    # Show the values of weights and bias\n",
    "    print('Weights:')\n",
    "    print(sess.run(weights))\n",
    "    print('Bias:')\n",
    "    print(sess.run(bias))\n",
    "\n",
    "    # Save the model\n",
    "    saver.save(sess, save_file)"
   ]
  },
  {
   "cell_type": "markdown",
   "metadata": {},
   "source": [
    "# Load the variables back"
   ]
  },
  {
   "cell_type": "code",
   "execution_count": 2,
   "metadata": {
    "collapsed": false,
    "scrolled": false
   },
   "outputs": [
    {
     "name": "stdout",
     "output_type": "stream",
     "text": [
      "Weight:\n",
      "[[-1.43552387 -0.70340478 -0.78335518]\n",
      " [ 1.48438513 -1.12358761  1.57190645]]\n",
      "Bias:\n",
      "[ 0.03582934  1.22028112  0.41342628]\n"
     ]
    }
   ],
   "source": [
    "# Remove the previous weights and bias\n",
    "tf.reset_default_graph()\n",
    "\n",
    "# Two Variables: weights and bias\n",
    "weights = tf.Variable(tf.truncated_normal([2, 3]))\n",
    "bias = tf.Variable(tf.truncated_normal([3]))\n",
    "\n",
    "# Class used to save and/or restore Tensor Variables\n",
    "saver = tf.train.Saver()\n",
    "\n",
    "with tf.Session() as sess:\n",
    "    # Load the weights and bias\n",
    "    saver.restore(sess, save_file)\n",
    "\n",
    "    # Show the values of weights and bias\n",
    "    print('Weight:')\n",
    "    print(sess.run(weights))\n",
    "    print('Bias:')\n",
    "    print(sess.run(bias))"
   ]
  },
  {
   "cell_type": "markdown",
   "metadata": {},
   "source": [
    "# Save a _trained_ model"
   ]
  },
  {
   "cell_type": "code",
   "execution_count": 3,
   "metadata": {
    "collapsed": false
   },
   "outputs": [
    {
     "name": "stdout",
     "output_type": "stream",
     "text": [
      "Extracting ./train-images-idx3-ubyte.gz\n",
      "Extracting ./train-labels-idx1-ubyte.gz\n",
      "Extracting ./t10k-images-idx3-ubyte.gz\n",
      "Extracting ./t10k-labels-idx1-ubyte.gz\n"
     ]
    }
   ],
   "source": [
    "# Remove previous Tensors and Operations\n",
    "tf.reset_default_graph()\n",
    "\n",
    "from tensorflow.examples.tutorials.mnist import input_data\n",
    "import numpy as np\n",
    "\n",
    "learning_rate = 0.001\n",
    "n_input = 784  # MNIST data input (img shape: 28*28)\n",
    "n_classes = 10  # MNIST total classes (0-9 digits)\n",
    "\n",
    "# Import MNIST data\n",
    "mnist = input_data.read_data_sets('.', one_hot=True)\n",
    "\n",
    "# Features and Labels\n",
    "features = tf.placeholder(tf.float32, [None, n_input])\n",
    "labels = tf.placeholder(tf.float32, [None, n_classes])\n",
    "\n",
    "# Weights & bias\n",
    "weights = tf.Variable(tf.random_normal([n_input, n_classes]))\n",
    "bias = tf.Variable(tf.random_normal([n_classes]))\n",
    "\n",
    "# Logits - xW + b\n",
    "logits = tf.add(tf.matmul(features, weights), bias)\n",
    "\n",
    "# Define loss and optimizer\n",
    "cost = tf.reduce_mean(tf.nn.softmax_cross_entropy_with_logits(logits=logits, labels=labels))\n",
    "optimizer = tf.train.GradientDescentOptimizer(learning_rate=learning_rate).minimize(cost)\n",
    "\n",
    "# Calculate accuracy\n",
    "correct_prediction = tf.equal(tf.argmax(logits, 1), tf.argmax(labels, 1))\n",
    "accuracy = tf.reduce_mean(tf.cast(correct_prediction, tf.float32))"
   ]
  },
  {
   "cell_type": "code",
   "execution_count": 4,
   "metadata": {
    "collapsed": false
   },
   "outputs": [
    {
     "name": "stdout",
     "output_type": "stream",
     "text": [
      "Epoch 0   - Validation Accuracy: 0.09120000153779984\n",
      "Epoch 10  - Validation Accuracy: 0.26179999113082886\n",
      "Epoch 20  - Validation Accuracy: 0.42100000381469727\n",
      "Epoch 30  - Validation Accuracy: 0.5070000290870667\n",
      "Epoch 40  - Validation Accuracy: 0.5685999989509583\n",
      "Epoch 50  - Validation Accuracy: 0.6132000088691711\n",
      "Epoch 60  - Validation Accuracy: 0.6456000208854675\n",
      "Epoch 70  - Validation Accuracy: 0.6710000038146973\n",
      "Epoch 80  - Validation Accuracy: 0.6940000057220459\n",
      "Epoch 90  - Validation Accuracy: 0.7089999914169312\n",
      "Trained Model Saved.\n"
     ]
    }
   ],
   "source": [
    "import math\n",
    "\n",
    "save_file = './train_model.ckpt'\n",
    "batch_size = 128\n",
    "n_epochs = 100\n",
    "\n",
    "saver = tf.train.Saver()\n",
    "\n",
    "# Launch the graph\n",
    "with tf.Session() as sess:\n",
    "    sess.run(tf.global_variables_initializer())\n",
    "\n",
    "    # Training cycle\n",
    "    for epoch in range(n_epochs):\n",
    "        total_batch = math.ceil(mnist.train.num_examples / batch_size)\n",
    "\n",
    "        # Loop over all batches\n",
    "        for i in range(total_batch):\n",
    "            batch_features, batch_labels = mnist.train.next_batch(batch_size)\n",
    "            sess.run(\n",
    "                optimizer,\n",
    "                feed_dict={features: batch_features, labels: batch_labels})\n",
    "\n",
    "        # Print status for every 10 epochs\n",
    "        if epoch % 10 == 0:\n",
    "            valid_accuracy = sess.run(\n",
    "                accuracy,\n",
    "                feed_dict={\n",
    "                    features: mnist.validation.images,\n",
    "                    labels: mnist.validation.labels})\n",
    "            print('Epoch {:<3} - Validation Accuracy: {}'.format(\n",
    "                epoch,\n",
    "                valid_accuracy))\n",
    "\n",
    "    # Save the model\n",
    "    saver.save(sess, save_file)\n",
    "    print('Trained Model Saved.')"
   ]
  },
  {
   "cell_type": "markdown",
   "metadata": {},
   "source": [
    "# Load a trained model\n",
    "We don't need to spend all that time retraining the model since we can just reload the parameters."
   ]
  },
  {
   "cell_type": "code",
   "execution_count": 5,
   "metadata": {
    "collapsed": false
   },
   "outputs": [
    {
     "name": "stdout",
     "output_type": "stream",
     "text": [
      "Test Accuracy: 0.718500018119812\n"
     ]
    }
   ],
   "source": [
    "saver = tf.train.Saver()\n",
    "\n",
    "# Launch the graph\n",
    "with tf.Session() as sess:\n",
    "    saver.restore(sess, save_file)\n",
    "\n",
    "    test_accuracy = sess.run(\n",
    "        accuracy,\n",
    "        feed_dict={features: mnist.test.images, labels: mnist.test.labels})\n",
    "\n",
    "print('Test Accuracy: {}'.format(test_accuracy))"
   ]
  },
  {
   "cell_type": "markdown",
   "metadata": {},
   "source": [
    "# Loading weights and biases into new model\n",
    "\n",
    "- Sometimes we want to adjust/finetune the parameters of a model that we've already trained and saved\n",
    "- Loading saved variables directly into a modified model can lead to errors\n",
    "\n",
    "## Naming error\n",
    "\n",
    "- Tensorflow uses string identifier for Tensors and Operations called `name`.\n",
    "- If a name is not given, TF will create one automatically\n",
    "- TF will give the first node the name `<Type>` and give the name `<Type>_<number>` for subsequent nodes\n",
    "\n",
    "See how this can affect loading a model with a different order of `weights` and `bias`\n",
    "\n",
    "**N.B.** the below code should yield an **error**"
   ]
  },
  {
   "cell_type": "code",
   "execution_count": 9,
   "metadata": {
    "collapsed": false,
    "scrolled": true
   },
   "outputs": [],
   "source": [
    "import tensorflow as tf\n",
    "\n",
    "#remove prev weights and bias\n",
    "tf.reset_default_graph()\n",
    "\n",
    "save_file = './model.ckpt'\n",
    "\n",
    "#two tensor variables: weights and bias\n",
    "weights = tf.Variable(tf.truncated_normal([2,3]))\n",
    "bias = tf.Variable(tf.truncated_normal([3]))\n",
    "\n",
    "saver = tf.train.Saver()\n",
    "\n",
    "#print the name of weights and bias\n",
    "print('Save Weights: {}'.format(weights.name))\n",
    "print('Save Bias:{}'.format(bias.name))\n",
    "\n",
    "with tf.Session() as sess:\n",
    "    sess.run(tf.global_variables_initializer())\n",
    "    saver.save(sess, save_file)\n",
    "    \n",
    "#remove the previous weights and bias\n",
    "tf.reset_default_graph()\n",
    "\n",
    "# Two Variables: weights and bias\n",
    "bias = tf.Variable(tf.truncated_normal([3]))\n",
    "weights = tf.Variable(tf.truncated_normal([2, 3]))\n",
    "\n",
    "saver = tf.train.Saver()\n",
    "\n",
    "# Print the name of Weights and Bias\n",
    "print('Load Weights: {}'.format(weights.name))\n",
    "print('Load Bias: {}'.format(bias.name))\n",
    "\n",
    "with tf.Session() as sess:\n",
    "    # Load the weights and bias - ERROR\n",
    "    saver.restore(sess, save_file)"
   ]
  },
  {
   "cell_type": "markdown",
   "metadata": {},
   "source": [
    "Above code results in\n",
    ">Save Weights: Variable:0\n",
    "\n",
    ">Save Bias:Variable_1:0\n",
    "\n",
    ">Load Weights: Variable_1:0\n",
    "\n",
    ">Load Bias: Variable:0\n",
    "\n",
    ">InvalidArgumentError: Assign requires shapes of both tensors to match. lhs shape= [2,3] rhs shape= [3]\n",
    "\n",
    "We need to set the name property manually instead of letting TF do it automatically."
   ]
  },
  {
   "cell_type": "code",
   "execution_count": 7,
   "metadata": {
    "collapsed": false
   },
   "outputs": [
    {
     "name": "stdout",
     "output_type": "stream",
     "text": [
      "Save Weights: weights_0:0\n",
      "Save Bias: bias_0:0\n",
      "Load Weights: weights_0:0\n",
      "Load Bias: bias_0:0\n",
      "Loaded Weights and Bias successfully.\n"
     ]
    }
   ],
   "source": [
    "import tensorflow as tf\n",
    "\n",
    "tf.reset_default_graph()\n",
    "\n",
    "save_file = './model.ckpt'\n",
    "\n",
    "# Two Tensor Variables: weights and bias\n",
    "weights = tf.Variable(tf.truncated_normal([2, 3]), name='weights_0')\n",
    "bias = tf.Variable(tf.truncated_normal([3]), name='bias_0')\n",
    "\n",
    "saver = tf.train.Saver()\n",
    "\n",
    "# Print the name of Weights and Bias\n",
    "print('Save Weights: {}'.format(weights.name))\n",
    "print('Save Bias: {}'.format(bias.name))\n",
    "\n",
    "with tf.Session() as sess:\n",
    "    sess.run(tf.global_variables_initializer())\n",
    "    saver.save(sess, save_file)\n",
    "\n",
    "# Remove the previous weights and bias\n",
    "tf.reset_default_graph()\n",
    "\n",
    "# Two Variables: weights and bias\n",
    "bias = tf.Variable(tf.truncated_normal([3]), name='bias_0')\n",
    "weights = tf.Variable(tf.truncated_normal([2, 3]) ,name='weights_0')\n",
    "\n",
    "saver = tf.train.Saver()\n",
    "\n",
    "# Print the name of Weights and Bias\n",
    "print('Load Weights: {}'.format(weights.name))\n",
    "print('Load Bias: {}'.format(bias.name))\n",
    "\n",
    "with tf.Session() as sess:\n",
    "    # Load the weights and bias - No Error\n",
    "    saver.restore(sess, save_file)\n",
    "\n",
    "print('Loaded Weights and Bias successfully.')"
   ]
  },
  {
   "cell_type": "markdown",
   "metadata": {},
   "source": [
    "# How to prevent overfitting\n",
    "\n",
    "- For deep networks, a network that is _just_ the right size for a dataset is very hard to optimize\n",
    "- In practice, we always use networks that are _way_ too big for our data\n",
    "- Then try our best to prevent them from overfitting\n",
    "\n",
    "## Early Termination\n",
    "- Look at performance on validation set and stop training as soon as we stop improving\n",
    "<img src=\"./images/week6/earlyterm.png\" alt=\"early-termination\" style=\"width:400px\">\n",
    "\n",
    "## Regularization\n",
    "- Add artificial constraints on our network \n",
    "- Implicitly reduce the number of free parameters\n",
    "- While not making the network too difficult to train\n",
    "\n",
    "### L2 Regularization\n",
    "- Add another term to the loss that penalizes the loss\n",
    "- Add the L2-norm of weights to the loss multiplied by small constant\n",
    "- Yet another hyperparameter to tune\n",
    "- The structure of the network does not change\n",
    "\n",
    "<img src=\"./images/week6/L2.png\" alt=\"L2-regularization\" style=\"width:400px\">\n",
    "\n",
    "Derivative of L2 norm of vector\n",
    "\n",
    "$$L_2 = \\beta \\frac{1}{2} \\|w\\|^2_2$$\n",
    "$$L'_2 = w $$\n",
    "\n",
    "## Dropout\n",
    "- For all activations going from one layer to the next\n",
    "- Randomly set half of them to _zero_!\n",
    "\n",
    "<img src=\"./images/week6/dropout1.png\" alt=\"dropout\" style=\"width:400px\">\n",
    "\n",
    "- Basically take half the data flowing through the network and destroy it\n",
    "- Pioneered by G. Hinton\n",
    "\n",
    "<img src=\"./images/week6/dropout2.png\" alt=\"redundancy\" style=\"width:400px\">\n",
    "\n",
    "- The network _can't_ rely on any given input \n",
    "- That input might be squashed via dropout\n",
    "- It is forced to learn a **redundant representation** for everything\n",
    "- Ensures that information will persist\n",
    "- It makes the network act as if it is taking a consensus over an ensemble of inputs\n",
    "\n",
    "<img src=\"./images/week6/dropout3.png\" alt=\"consensus\" style=\"width:400px\">\n",
    "\n",
    "### How do we deal with this redundant representation learned by dropout?\n",
    "- We want the network to take the consensus of the activations\n",
    "- This can be done via *average pooling* the activations\n",
    "\n",
    "<img src=\"./images/week6/dropout4.png\" alt=\"pooling\" style=\"width:400px\">\n",
    "\n",
    "- We want $Y_e$ to be the **average** of all the $Y_t$ that we got during training\n",
    "- Not only do we set half our activations randomly to zero\n",
    "- Also scale the remaining activations by a **factor of 2**\n",
    "\n",
    "$$Y_e ~ E(Y_t)$$\n",
    "\n",
    "- We remove the factor scaling when averaging the activations\n"
   ]
  },
  {
   "cell_type": "markdown",
   "metadata": {},
   "source": [
    "# Tensorflow Dropout\n",
    "\n",
    "The `tf.nn.dropout()` function takes in two parameters:\n",
    "\n",
    "1. `hidden_layer`: the tensor to which you would like to apply dropout\n",
    "2. `keep_prob`: the probability of keeping (i.e. not dropping) any given unit\n",
    "\n",
    "\n",
    "- `keep_prob` allows us to adjust the # units to drop\n",
    "- `tf.nn.dropout()` multiplies all units _not_ dropped by `1/keep_prob`\n",
    "- A good `keep_prob` to use is `0.5`\n",
    "- During testing, use `keep_prob` of `1.0` to keep all units and maximuze the power of the model"
   ]
  },
  {
   "cell_type": "code",
   "execution_count": 8,
   "metadata": {
    "collapsed": false
   },
   "outputs": [
    {
     "name": "stdout",
     "output_type": "stream",
     "text": [
      "[[  7.67999935  15.05999947]\n",
      " [  0.71400005   0.91800004]\n",
      " [  9.56000042   4.78000021]]\n"
     ]
    }
   ],
   "source": [
    "import tensorflow as tf\n",
    "\n",
    "hidden_layer_weights = [\n",
    "    [0.1, 0.2, 0.4],\n",
    "    [0.4, 0.6, 0.6],\n",
    "    [0.5, 0.9, 0.1],\n",
    "    [0.8, 0.2, 0.8]]\n",
    "out_weights = [\n",
    "    [0.1, 0.6],\n",
    "    [0.2, 0.1],\n",
    "    [0.7, 0.9]]\n",
    "\n",
    "# Weights and biases\n",
    "weights = [\n",
    "    tf.Variable(hidden_layer_weights),\n",
    "    tf.Variable(out_weights)]\n",
    "biases = [\n",
    "    tf.Variable(tf.zeros(3)),\n",
    "    tf.Variable(tf.zeros(2))]\n",
    "\n",
    "# Input\n",
    "features = tf.Variable([[0.0, 2.0, 3.0, 4.0], [0.1, 0.2, 0.3, 0.4], [11.0, 12.0, 13.0, 14.0]])\n",
    "\n",
    "# TODO: Create Model with Dropout\n",
    "keep_prob = tf.placeholder(tf.float32)\n",
    "hidden_layer = tf.add(tf.matmul(features,weights[0]),biases[0])\n",
    "hidden_layer = tf.nn.relu(hidden_layer)\n",
    "hidden_layer = tf.nn.dropout(hidden_layer,keep_prob)\n",
    "\n",
    "logits = tf.add(tf.matmul(hidden_layer,weights[1]),biases[1])\n",
    "\n",
    "# TODO: Print logits from a session\n",
    "with tf.Session() as sess:\n",
    "    sess.run(tf.global_variables_initializer())\n",
    "    \n",
    "    output = sess.run(logits,feed_dict={keep_prob:0.5})\n",
    "    print(output)"
   ]
  }
 ],
 "metadata": {
  "kernelspec": {
   "display_name": "Python 3",
   "language": "python",
   "name": "python3"
  },
  "language_info": {
   "codemirror_mode": {
    "name": "ipython",
    "version": 3
   },
   "file_extension": ".py",
   "mimetype": "text/x-python",
   "name": "python",
   "nbconvert_exporter": "python",
   "pygments_lexer": "ipython3",
   "version": "3.5.2"
  }
 },
 "nbformat": 4,
 "nbformat_minor": 2
}
