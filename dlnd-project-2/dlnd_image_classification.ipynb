{
 "cells": [
  {
   "cell_type": "markdown",
   "metadata": {
    "collapsed": true,
    "deletable": true,
    "editable": true
   },
   "source": [
    "# Image Classification\n",
    "In this project, you'll classify images from the [CIFAR-10 dataset](https://www.cs.toronto.edu/~kriz/cifar.html).  The dataset consists of airplanes, dogs, cats, and other objects. You'll preprocess the images, then train a convolutional neural network on all the samples. The images need to be normalized and the labels need to be one-hot encoded.  You'll get to apply what you learned and build a convolutional, max pooling, dropout, and fully connected layers.  At the end, you'll get to see your neural network's predictions on the sample images.\n",
    "## Get the Data\n",
    "Run the following cell to download the [CIFAR-10 dataset for python](https://www.cs.toronto.edu/~kriz/cifar-10-python.tar.gz)."
   ]
  },
  {
   "cell_type": "code",
   "execution_count": 2,
   "metadata": {
    "collapsed": false
   },
   "outputs": [
    {
     "name": "stdout",
     "output_type": "stream",
     "text": [
      "Collecting tqdm\n",
      "  Downloading tqdm-4.11.2-py2.py3-none-any.whl (46kB)\n",
      "\u001b[K    100% |████████████████████████████████| 51kB 3.1MB/s ta 0:00:01\n",
      "\u001b[?25hInstalling collected packages: tqdm\n",
      "Successfully installed tqdm-4.11.2\n"
     ]
    }
   ],
   "source": [
    "!pip install tqdm"
   ]
  },
  {
   "cell_type": "code",
   "execution_count": 3,
   "metadata": {
    "collapsed": false,
    "deletable": true,
    "editable": true
   },
   "outputs": [
    {
     "name": "stdout",
     "output_type": "stream",
     "text": [
      "All files found!\n"
     ]
    }
   ],
   "source": [
    "\"\"\"\n",
    "DON'T MODIFY ANYTHING IN THIS CELL THAT IS BELOW THIS LINE\n",
    "\"\"\"\n",
    "from urllib.request import urlretrieve\n",
    "from os.path import isfile, isdir\n",
    "from tqdm import tqdm\n",
    "import problem_unittests as tests\n",
    "import tarfile\n",
    "\n",
    "cifar10_dataset_folder_path = 'cifar-10-batches-py'\n",
    "\n",
    "class DLProgress(tqdm):\n",
    "    last_block = 0\n",
    "\n",
    "    def hook(self, block_num=1, block_size=1, total_size=None):\n",
    "        self.total = total_size\n",
    "        self.update((block_num - self.last_block) * block_size)\n",
    "        self.last_block = block_num\n",
    "\n",
    "if not isfile('cifar-10-python.tar.gz'):\n",
    "    with DLProgress(unit='B', unit_scale=True, miniters=1, desc='CIFAR-10 Dataset') as pbar:\n",
    "        urlretrieve(\n",
    "            'https://www.cs.toronto.edu/~kriz/cifar-10-python.tar.gz',\n",
    "            'cifar-10-python.tar.gz',\n",
    "            pbar.hook)\n",
    "\n",
    "if not isdir(cifar10_dataset_folder_path):\n",
    "    with tarfile.open('cifar-10-python.tar.gz') as tar:\n",
    "        tar.extractall()\n",
    "        tar.close()\n",
    "\n",
    "\n",
    "tests.test_folder_path(cifar10_dataset_folder_path)"
   ]
  },
  {
   "cell_type": "markdown",
   "metadata": {
    "deletable": true,
    "editable": true
   },
   "source": [
    "## Explore the Data\n",
    "The dataset is broken into batches to prevent your machine from running out of memory.  The CIFAR-10 dataset consists of 5 batches, named `data_batch_1`, `data_batch_2`, etc.. Each batch contains the labels and images that are one of the following:\n",
    "* airplane\n",
    "* automobile\n",
    "* bird\n",
    "* cat\n",
    "* deer\n",
    "* dog\n",
    "* frog\n",
    "* horse\n",
    "* ship\n",
    "* truck\n",
    "\n",
    "Understanding a dataset is part of making predictions on the data.  Play around with the code cell below by changing the `batch_id` and `sample_id`. The `batch_id` is the id for a batch (1-5). The `sample_id` is the id for a image and label pair in the batch.\n",
    "\n",
    "Ask yourself \"What are all possible labels?\", \"What is the range of values for the image data?\", \"Are the labels in order or random?\".  Answers to questions like these will help you preprocess the data and end up with better predictions."
   ]
  },
  {
   "cell_type": "code",
   "execution_count": 4,
   "metadata": {
    "collapsed": false,
    "deletable": true,
    "editable": true
   },
   "outputs": [
    {
     "name": "stdout",
     "output_type": "stream",
     "text": [
      "\n",
      "Stats of batch 1:\n",
      "Samples: 10000\n",
      "Label Counts: {0: 1005, 1: 974, 2: 1032, 3: 1016, 4: 999, 5: 937, 6: 1030, 7: 1001, 8: 1025, 9: 981}\n",
      "First 20 Labels: [6, 9, 9, 4, 1, 1, 2, 7, 8, 3, 4, 7, 7, 2, 9, 9, 9, 3, 2, 6]\n",
      "\n",
      "Example of Image 5:\n",
      "Image - Min Value: 0 Max Value: 252\n",
      "Image - Shape: (32, 32, 3)\n",
      "Label - Label Id: 1 Name: automobile\n"
     ]
    },
    {
     "data": {
      "image/png": "[encoded data removed]",
      "text/plain": [
       "<matplotlib.figure.Figure at 0x7f869dfe20b8>"
      ]
     },
     "metadata": {
      "image/png": {
       "height": 250,
       "width": 253
      }
     },
     "output_type": "display_data"
    }
   ],
   "source": [
    "%matplotlib inline\n",
    "%config InlineBackend.figure_format = 'retina'\n",
    "\n",
    "import helper\n",
    "import numpy as np\n",
    "\n",
    "# Explore the dataset\n",
    "batch_id = 1\n",
    "sample_id = 5\n",
    "helper.display_stats(cifar10_dataset_folder_path, batch_id, sample_id)"
   ]
  },
  {
   "cell_type": "markdown",
   "metadata": {
    "deletable": true,
    "editable": true
   },
   "source": [
    "## Implement Preprocess Functions\n",
    "### Normalize\n",
    "In the cell below, implement the `normalize` function to take in image data, `x`, and return it as a normalized Numpy array. The values should be in the range of 0 to 1, inclusive.  The return object should be the same shape as `x`."
   ]
  },
  {
   "cell_type": "code",
   "execution_count": 12,
   "metadata": {
    "collapsed": false,
    "deletable": true,
    "editable": true
   },
   "outputs": [
    {
     "name": "stdout",
     "output_type": "stream",
     "text": [
      "Tests Passed\n"
     ]
    }
   ],
   "source": [
    "def normalize(x):\n",
    "    \"\"\"\n",
    "    Normalize a list of sample image data in the range of 0 to 1\n",
    "    : x: List of image data.  The image shape is (32, 32, 3)\n",
    "    : return: Numpy array of normalize data\n",
    "    \"\"\"\n",
    "    # TODO: Implement Function\n",
    "    # normalize by dividing by maximum possible pixel value\n",
    "    return x/255\n",
    "\n",
    "\n",
    "\"\"\"\n",
    "DON'T MODIFY ANYTHING IN THIS CELL THAT IS BELOW THIS LINE\n",
    "\"\"\"\n",
    "tests.test_normalize(normalize)"
   ]
  },
  {
   "cell_type": "markdown",
   "metadata": {
    "deletable": true,
    "editable": true
   },
   "source": [
    "### One-hot encode\n",
    "Just like the previous code cell, you'll be implementing a function for preprocessing.  This time, you'll implement the `one_hot_encode` function. The input, `x`, are a list of labels.  Implement the function to return the list of labels as One-Hot encoded Numpy array.  The possible values for labels are 0 to 9. The one-hot encoding function should return the same encoding for each value between each call to `one_hot_encode`.  Make sure to save the map of encodings outside the function.\n",
    "\n",
    "Hint: Don't reinvent the wheel."
   ]
  },
  {
   "cell_type": "code",
   "execution_count": 17,
   "metadata": {
    "collapsed": false,
    "deletable": true,
    "editable": true
   },
   "outputs": [
    {
     "name": "stdout",
     "output_type": "stream",
     "text": [
      "Tests Passed\n"
     ]
    }
   ],
   "source": [
    "#I think i accidenally reinvented the wheel on this one\n",
    "def one_hot_encode(x):\n",
    "    \"\"\"\n",
    "    One hot encode a list of sample labels. Return a one-hot encoded vector for each label.\n",
    "    : x: List of sample Labels\n",
    "    : return: Numpy array of one-hot encoded labels\n",
    "    \"\"\"\n",
    "    # TODO: Implement Function\n",
    "    x = np.array(x)\n",
    "    num_samples = len(x)\n",
    "    num_classes = 10\n",
    "    one_hot = np.zeros((num_samples,num_classes))\n",
    "    \n",
    "    for cls in range(num_classes):  # loop through each column and set corresponding rows to 1                     \n",
    "        one_hot[x==cls+1,cls] = 1\n",
    "                       \n",
    "    return one_hot\n",
    "\n",
    "\"\"\"\n",
    "DON'T MODIFY ANYTHING IN THIS CELL THAT IS BELOW THIS LINE\n",
    "\"\"\"\n",
    "tests.test_one_hot_encode(one_hot_encode)"
   ]
  },
  {
   "cell_type": "markdown",
   "metadata": {
    "deletable": true,
    "editable": true
   },
   "source": [
    "### Randomize Data\n",
    "As you saw from exploring the data above, the order of the samples are randomized.  It doesn't hurt to randomize it again, but you don't need to for this dataset."
   ]
  },
  {
   "cell_type": "markdown",
   "metadata": {
    "deletable": true,
    "editable": true
   },
   "source": [
    "## Preprocess all the data and save it\n",
    "Running the code cell below will preprocess all the CIFAR-10 data and save it to file. The code below also uses 10% of the training data for validation."
   ]
  },
  {
   "cell_type": "code",
   "execution_count": 19,
   "metadata": {
    "collapsed": false,
    "deletable": true,
    "editable": true
   },
   "outputs": [],
   "source": [
    "\"\"\"\n",
    "DON'T MODIFY ANYTHING IN THIS CELL\n",
    "\"\"\"\n",
    "# Preprocess Training, Validation, and Testing Data\n",
    "helper.preprocess_and_save_data(cifar10_dataset_folder_path, normalize, one_hot_encode)"
   ]
  },
  {
   "cell_type": "markdown",
   "metadata": {
    "deletable": true,
    "editable": true
   },
   "source": [
    "# Check Point\n",
    "This is your first checkpoint.  If you ever decide to come back to this notebook or have to restart the notebook, you can start from here.  The preprocessed data has been saved to disk."
   ]
  },
  {
   "cell_type": "code",
   "execution_count": 20,
   "metadata": {
    "collapsed": true,
    "deletable": true,
    "editable": true
   },
   "outputs": [],
   "source": [
    "\"\"\"\n",
    "DON'T MODIFY ANYTHING IN THIS CELL\n",
    "\"\"\"\n",
    "import pickle\n",
    "import problem_unittests as tests\n",
    "import helper\n",
    "\n",
    "# Load the Preprocessed Validation data\n",
    "valid_features, valid_labels = pickle.load(open('preprocess_validation.p', mode='rb'))"
   ]
  },
  {
   "cell_type": "markdown",
   "metadata": {
    "deletable": true,
    "editable": true
   },
   "source": [
    "## Build the network\n",
    "For the neural network, you'll build each layer into a function.  Most of the code you've seen has been outside of functions. To test your code more thoroughly, we require that you put each layer in a function.  This allows us to give you better feedback and test for simple mistakes using our unittests before you submit your project.\n",
    "\n",
    "If you're finding it hard to dedicate enough time for this course a week, we've provided a small shortcut to this part of the project. In the next couple of problems, you'll have the option to use [TensorFlow Layers](https://www.tensorflow.org/api_docs/python/tf/layers) or [TensorFlow Layers (contrib)](https://www.tensorflow.org/api_guides/python/contrib.layers) to build each layer, except \"Convolutional & Max Pooling\" layer.  TF Layers is similar to Keras's and TFLearn's abstraction to layers, so it's easy to pickup.\n",
    "\n",
    "If you would like to get the most of this course, try to solve all the problems without TF Layers.  Let's begin!\n",
    "### Input\n",
    "The neural network needs to read the image data, one-hot encoded labels, and dropout keep probability. Implement the following functions\n",
    "* Implement `neural_net_image_input`\n",
    " * Return a [TF Placeholder](https://www.tensorflow.org/api_docs/python/tf/placeholder)\n",
    " * Set the shape using `image_shape` with batch size set to `None`.\n",
    " * Name the TensorFlow placeholder \"x\" using the TensorFlow `name` parameter in the [TF Placeholder](https://www.tensorflow.org/api_docs/python/tf/placeholder).\n",
    "* Implement `neural_net_label_input`\n",
    " * Return a [TF Placeholder](https://www.tensorflow.org/api_docs/python/tf/placeholder)\n",
    " * Set the shape using `n_classes` with batch size set to `None`.\n",
    " * Name the TensorFlow placeholder \"y\" using the TensorFlow `name` parameter in the [TF Placeholder](https://www.tensorflow.org/api_docs/python/tf/placeholder).\n",
    "* Implement `neural_net_keep_prob_input`\n",
    " * Return a [TF Placeholder](https://www.tensorflow.org/api_docs/python/tf/placeholder) for dropout keep probability.\n",
    " * Name the TensorFlow placeholder \"keep_prob\" using the TensorFlow `name` parameter in the [TF Placeholder](https://www.tensorflow.org/api_docs/python/tf/placeholder).\n",
    "\n",
    "These names will be used at the end of the project to load your saved model.\n",
    "\n",
    "Note: `None` for shapes in TensorFlow allow for a dynamic size."
   ]
  },
  {
   "cell_type": "code",
   "execution_count": 21,
   "metadata": {
    "collapsed": false,
    "deletable": true,
    "editable": true
   },
   "outputs": [
    {
     "name": "stdout",
     "output_type": "stream",
     "text": [
      "Image Input Tests Passed.\n",
      "Label Input Tests Passed.\n",
      "Keep Prob Tests Passed.\n"
     ]
    }
   ],
   "source": [
    "import tensorflow as tf\n",
    "\n",
    "def neural_net_image_input(image_shape):\n",
    "    \"\"\"\n",
    "    Return a Tensor for a batch of image input\n",
    "    : image_shape: Shape of the images\n",
    "    : return: Tensor for image input.\n",
    "    \"\"\"\n",
    "    # TODO: Implement Function\n",
    "    return tf.placeholder(tf.float32, shape = (None,)+image_shape, name = \"x\")\n",
    "\n",
    "\n",
    "def neural_net_label_input(n_classes):\n",
    "    \"\"\"\n",
    "    Return a Tensor for a batch of label input\n",
    "    : n_classes: Number of classes\n",
    "    : return: Tensor for label input.\n",
    "    \"\"\"\n",
    "    # TODO: Implement Function\n",
    "    return tf.placeholder(tf.float32, shape = [None, n_classes], name = \"y\")\n",
    "\n",
    "def neural_net_keep_prob_input():\n",
    "    \"\"\"\n",
    "    Return a Tensor for keep probability\n",
    "    : return: Tensor for keep probability.\n",
    "    \"\"\"\n",
    "    # TODO: Implement Function\n",
    "    return tf.placeholder(tf.float32, shape = None, name=\"keep_prob\")\n",
    "\n",
    "\n",
    "\"\"\"\n",
    "DON'T MODIFY ANYTHING IN THIS CELL THAT IS BELOW THIS LINE\n",
    "\"\"\"\n",
    "tf.reset_default_graph()\n",
    "tests.test_nn_image_inputs(neural_net_image_input)\n",
    "tests.test_nn_label_inputs(neural_net_label_input)\n",
    "tests.test_nn_keep_prob_inputs(neural_net_keep_prob_input)"
   ]
  },
  {
   "cell_type": "markdown",
   "metadata": {
    "deletable": true,
    "editable": true
   },
   "source": [
    "### Convolution and Max Pooling Layer\n",
    "Convolution layers have a lot of success with images. For this code cell, you should implement the function `conv2d_maxpool` to apply convolution then max pooling:\n",
    "* Create the weight and bias using `conv_ksize`, `conv_num_outputs` and the shape of `x_tensor`.\n",
    "* Apply a convolution to `x_tensor` using weight and `conv_strides`.\n",
    " * We recommend you use same padding, but you're welcome to use any padding.\n",
    "* Add bias\n",
    "* Add a nonlinear activation to the convolution.\n",
    "* Apply Max Pooling using `pool_ksize` and `pool_strides`.\n",
    " * We recommend you use same padding, but you're welcome to use any padding.\n",
    "\n",
    "Note: You **can't** use [TensorFlow Layers](https://www.tensorflow.org/api_docs/python/tf/layers) or [TensorFlow Layers (contrib)](https://www.tensorflow.org/api_guides/python/contrib.layers) for this layer.  You're free to use any TensorFlow package for all the other layers."
   ]
  },
  {
   "cell_type": "code",
   "execution_count": 28,
   "metadata": {
    "collapsed": false,
    "deletable": true,
    "editable": true
   },
   "outputs": [
    {
     "name": "stdout",
     "output_type": "stream",
     "text": [
      "Tests Passed\n"
     ]
    }
   ],
   "source": [
    "def conv2d_maxpool(x_tensor, conv_num_outputs, conv_ksize, conv_strides, pool_ksize, pool_strides):\n",
    "    \"\"\"\n",
    "    Apply convolution then max pooling to x_tensor\n",
    "    :param x_tensor: TensorFlow Tensor\n",
    "    :param conv_num_outputs: Number of outputs for the convolutional layer\n",
    "    :param conv_strides: Stride 2-D Tuple for convolution\n",
    "    :param pool_ksize: kernal size 2-D Tuple for pool\n",
    "    :param pool_strides: Stride 2-D Tuple for pool\n",
    "    : return: A tensor that represents convolution and max pooling of x_tensor\n",
    "    \"\"\"\n",
    "    # TODO: Implement Function\n",
    "    \n",
    "    x_3 = int(x_tensor.get_shape()[3])\n",
    "    \n",
    "    #filter weights\n",
    "    #scale stdev by filter size to avoid saturation\n",
    "    filt_weights = tf.Variable(tf.truncated_normal([conv_ksize[0], conv_ksize[1], x_3, conv_num_outputs],\n",
    "                                                   stddev=1.0/(conv_ksize[0]*conv_ksize[1])))\n",
    "    \n",
    "    \n",
    "    #bias\n",
    "    bias = tf.Variable(tf.zeros(conv_num_outputs)) # shared bias \n",
    "    \n",
    "    convolved = tf.nn.conv2d(x_tensor,filt_weights, (1,) + conv_strides+ (1,), padding=\"SAME\") \n",
    "    \n",
    "    convolved = tf.nn.bias_add(convolved,bias)\n",
    "        \n",
    "    activated = tf.nn.relu(convolved)\n",
    "\n",
    "    pooled = tf.nn.max_pool(activated, \n",
    "                            ksize = (1,)+pool_ksize+(1,),\n",
    "                           strides = (1,)+pool_strides+(1,),\n",
    "                           padding = \"SAME\")\n",
    "    \n",
    "    return pooled \n",
    "\n",
    "\n",
    "\"\"\"\n",
    "DON'T MODIFY ANYTHING IN THIS CELL THAT IS BELOW THIS LINE\n",
    "\"\"\"\n",
    "tests.test_con_pool(conv2d_maxpool)"
   ]
  },
  {
   "cell_type": "markdown",
   "metadata": {
    "deletable": true,
    "editable": true
   },
   "source": [
    "### Flatten Layer\n",
    "Implement the `flatten` function to change the dimension of `x_tensor` from a 4-D tensor to a 2-D tensor.  The output should be the shape (*Batch Size*, *Flattened Image Size*). You can use [TensorFlow Layers](https://www.tensorflow.org/api_docs/python/tf/layers) or [TensorFlow Layers (contrib)](https://www.tensorflow.org/api_guides/python/contrib.layers) for this layer."
   ]
  },
  {
   "cell_type": "code",
   "execution_count": 23,
   "metadata": {
    "collapsed": false,
    "deletable": true,
    "editable": true
   },
   "outputs": [
    {
     "name": "stdout",
     "output_type": "stream",
     "text": [
      "Tests Passed\n"
     ]
    }
   ],
   "source": [
    "def flatten(x_tensor):\n",
    "    \"\"\"\n",
    "    Flatten x_tensor to (Batch Size, Flattened Image Size)\n",
    "    : x_tensor: A tensor of size (Batch Size, ...), where ... are the image dimensions.\n",
    "    : return: A tensor of size (Batch Size, Flattened Image Size).\n",
    "    \"\"\"\n",
    "    # TODO: Implement Function\n",
    "    #used contrib.layers for this one\n",
    "    #siraj had something similar in his vid where he used np.reshape(x_tensor, [-1, product_of_all_dimensions])\n",
    "    return tf.contrib.layers.flatten(x_tensor)\n",
    "\n",
    "\n",
    "\"\"\"\n",
    "DON'T MODIFY ANYTHING IN THIS CELL THAT IS BELOW THIS LINE\n",
    "\"\"\"\n",
    "tests.test_flatten(flatten)"
   ]
  },
  {
   "cell_type": "markdown",
   "metadata": {
    "deletable": true,
    "editable": true
   },
   "source": [
    "### Fully-Connected Layer\n",
    "Implement the `fully_conn` function to apply a fully connected layer to `x_tensor` with the shape (*Batch Size*, *num_outputs*). You can use [TensorFlow Layers](https://www.tensorflow.org/api_docs/python/tf/layers) or [TensorFlow Layers (contrib)](https://www.tensorflow.org/api_guides/python/contrib.layers) for this layer."
   ]
  },
  {
   "cell_type": "code",
   "execution_count": 31,
   "metadata": {
    "collapsed": false,
    "deletable": true,
    "editable": true
   },
   "outputs": [
    {
     "name": "stdout",
     "output_type": "stream",
     "text": [
      "Tests Passed\n"
     ]
    }
   ],
   "source": [
    "def fully_conn(x_tensor, num_outputs):\n",
    "    \"\"\"\n",
    "    Apply a fully connected layer to x_tensor using weight and bias\n",
    "    : x_tensor: A 2-D tensor where the first dimension is batch size.\n",
    "    : num_outputs: The number of output that the new tensor should be.\n",
    "    : return: A 2-D tensor where the second dimension is num_outputs.\n",
    "    \"\"\"\n",
    "    # TODO: Implement Function\n",
    "    tensor_shape = x_tensor.get_shape()\n",
    "    #define weights\n",
    "    weights = tf.Variable(tf.truncated_normal((int(tensor_shape[1]), num_outputs),\n",
    "                                              stddev=1.0/int(tensor_shape[1])))\n",
    "    #define bias\n",
    "    bias = tf.Variable(tf.zeros( num_outputs))\n",
    "    \n",
    "    #multiply and add bias\n",
    "    dotted = tf.nn.bias_add(tf.matmul(x_tensor,weights),bias) \n",
    "    \n",
    "    #activate using rectified linear unit\n",
    "    activated = tf.nn.relu(dotted)\n",
    "    \n",
    "    \n",
    "    return activated\n",
    "\n",
    "\n",
    "\"\"\"\n",
    "DON'T MODIFY ANYTHING IN THIS CELL THAT IS BELOW THIS LINE\n",
    "\"\"\"\n",
    "tests.test_fully_conn(fully_conn)"
   ]
  },
  {
   "cell_type": "markdown",
   "metadata": {
    "deletable": true,
    "editable": true
   },
   "source": [
    "### Output Layer\n",
    "Implement the `output` function to apply a fully connected layer to `x_tensor` with the shape (*Batch Size*, *num_outputs*). You can use [TensorFlow Layers](https://www.tensorflow.org/api_docs/python/tf/layers) or [TensorFlow Layers (contrib)](https://www.tensorflow.org/api_guides/python/contrib.layers) for this layer.\n",
    "\n",
    "Note: Activation, softmax, or cross entropy shouldn't be applied to this."
   ]
  },
  {
   "cell_type": "code",
   "execution_count": 32,
   "metadata": {
    "collapsed": false,
    "deletable": true,
    "editable": true
   },
   "outputs": [
    {
     "name": "stdout",
     "output_type": "stream",
     "text": [
      "Tests Passed\n"
     ]
    }
   ],
   "source": [
    "def output(x_tensor, num_outputs):\n",
    "    \"\"\"\n",
    "    Apply a output layer to x_tensor using weight and bias\n",
    "    : x_tensor: A 2-D tensor where the first dimension is batch size.\n",
    "    : num_outputs: The number of output that the new tensor should be.\n",
    "    : return: A 2-D tensor where the second dimension is num_outputs.\n",
    "    \"\"\"\n",
    "    # TODO: Implement Function\n",
    "    # I guess here I just call the previous function?\n",
    "    return  fully_conn(x_tensor,num_outputs)\n",
    "\n",
    "\n",
    "\n",
    "\"\"\"\n",
    "DON'T MODIFY ANYTHING IN THIS CELL THAT IS BELOW THIS LINE\n",
    "\"\"\"\n",
    "tests.test_output(output)"
   ]
  },
  {
   "cell_type": "markdown",
   "metadata": {
    "deletable": true,
    "editable": true
   },
   "source": [
    "### Create Convolutional Model\n",
    "Implement the function `conv_net` to create a convolutional neural network model. The function takes in a batch of images, `x`, and outputs logits.  Use the layers you created above to create this model:\n",
    "\n",
    "* Apply 1, 2, or 3 Convolution and Max Pool layers\n",
    "* Apply a Flatten Layer\n",
    "* Apply 1, 2, or 3 Fully Connected Layers\n",
    "* Apply an Output Layer\n",
    "* Return the output\n",
    "* Apply [TensorFlow's Dropout](https://www.tensorflow.org/api_docs/python/tf/nn/dropout) to one or more layers in the model using `keep_prob`. "
   ]
  },
  {
   "cell_type": "code",
   "execution_count": 54,
   "metadata": {
    "collapsed": false,
    "deletable": true,
    "editable": true
   },
   "outputs": [
    {
     "name": "stdout",
     "output_type": "stream",
     "text": [
      "Neural Network Built!\n"
     ]
    }
   ],
   "source": [
    "def conv_net(x, keep_prob):\n",
    "    \"\"\"\n",
    "    Create a convolutional neural network model\n",
    "    : x: Placeholder tensor that holds image data.\n",
    "    : keep_prob: Placeholder tensor that hold dropout keep probability.\n",
    "    : return: Tensor that represents logits\n",
    "    \"\"\"\n",
    "    # TODO: Apply 1, 2, or 3 Convolution and Max Pool layers\n",
    "    #    Play around with different number of outputs, kernel size and stride\n",
    "    # Function Definition from Above:\n",
    "    #    conv2d_maxpool(x_tensor, conv_num_outputs, conv_ksize, conv_strides, pool_ksize, pool_strides)\n",
    "\n",
    "    # do two layers, conv_num outputs = 32, then feed into deeper 64\n",
    "    mdl = conv2d_maxpool(x, 32, (4,4), (1,1), (4, 4), (2, 2))\n",
    "    mdl = conv2d_maxpool(mdl, 64, (4,4), (1,1), (4, 4), (2, 2))\n",
    "\n",
    "    # TODO: Apply a Flatten Layer\n",
    "    # Function Definition from Above:\n",
    "    #   flatten(x_tensor)\n",
    "    \n",
    "    mdl = flatten(mdl)\n",
    "                \n",
    "    # TODO: Apply 1, 2, or 3 Fully Connected Layers\n",
    "    #    Play around with different number of outputs\n",
    "    # Function Definition from Above:\n",
    "    #   fully_conn(x_tensor, num_outputs)\n",
    "    mdl = fully_conn(mdl, 250) # use 250 as suggested by someone in slack\n",
    "    mdl = tf.nn.dropout(mdl, keep_prob)    \n",
    "    \n",
    "    \n",
    "    # TODO: Apply an Output Layer\n",
    "    #    Set this to the number of classes\n",
    "    # Function Definition from Above:\n",
    "    #   output(x_tensor, num_outputs)\n",
    "    mdl = output(mdl, 10)\n",
    "    \n",
    "    # TODO: return output\n",
    "    return mdl\n",
    "\n",
    "\n",
    "\"\"\"\n",
    "DON'T MODIFY ANYTHING IN THIS CELL THAT IS BELOW THIS LINE\n",
    "\"\"\"\n",
    "\n",
    "##############################\n",
    "## Build the Neural Network ##\n",
    "##############################\n",
    "\n",
    "# Remove previous weights, bias, inputs, etc..\n",
    "tf.reset_default_graph()\n",
    "\n",
    "# Inputs\n",
    "x = neural_net_image_input((32, 32, 3))\n",
    "y = neural_net_label_input(10)\n",
    "keep_prob = neural_net_keep_prob_input()\n",
    "\n",
    "# Model\n",
    "logits = conv_net(x, keep_prob)\n",
    "\n",
    "# Name logits Tensor, so that is can be loaded from disk after training\n",
    "logits = tf.identity(logits, name='logits')\n",
    "\n",
    "# Loss and Optimizer\n",
    "cost = tf.reduce_mean(tf.nn.softmax_cross_entropy_with_logits(logits=logits, labels=y))\n",
    "optimizer = tf.train.AdamOptimizer().minimize(cost)\n",
    "\n",
    "# Accuracy\n",
    "correct_pred = tf.equal(tf.argmax(logits, 1), tf.argmax(y, 1))\n",
    "accuracy = tf.reduce_mean(tf.cast(correct_pred, tf.float32), name='accuracy')\n",
    "\n",
    "tests.test_conv_net(conv_net)"
   ]
  },
  {
   "cell_type": "markdown",
   "metadata": {
    "deletable": true,
    "editable": true
   },
   "source": [
    "## Train the Neural Network\n",
    "### Single Optimization\n",
    "Implement the function `train_neural_network` to do a single optimization.  The optimization should use `optimizer` to optimize in `session` with a `feed_dict` of the following:\n",
    "* `x` for image input\n",
    "* `y` for labels\n",
    "* `keep_prob` for keep probability for dropout\n",
    "\n",
    "This function will be called for each batch, so `tf.global_variables_initializer()` has already been called.\n",
    "\n",
    "Note: Nothing needs to be returned. This function is only optimizing the neural network."
   ]
  },
  {
   "cell_type": "code",
   "execution_count": 55,
   "metadata": {
    "collapsed": false,
    "deletable": true,
    "editable": true
   },
   "outputs": [
    {
     "name": "stdout",
     "output_type": "stream",
     "text": [
      "Tests Passed\n"
     ]
    }
   ],
   "source": [
    "def train_neural_network(session, optimizer, keep_probability, feature_batch, label_batch):\n",
    "    \"\"\"\n",
    "    Optimize the session on a batch of images and labels\n",
    "    : session: Current TensorFlow session\n",
    "    : optimizer: TensorFlow optimizer function\n",
    "    : keep_probability: keep probability\n",
    "    : feature_batch: Batch of Numpy image data\n",
    "    : label_batch: Batch of Numpy label data\n",
    "    \"\"\"\n",
    "    # TODO: Implement Function\n",
    "    #not much to this one\n",
    "    session.run(optimizer, feed_dict={x:feature_batch, y:label_batch, keep_prob:keep_probability})\n",
    "\n",
    "\n",
    "\"\"\"\n",
    "DON'T MODIFY ANYTHING IN THIS CELL THAT IS BELOW THIS LINE\n",
    "\"\"\"\n",
    "tests.test_train_nn(train_neural_network)"
   ]
  },
  {
   "cell_type": "markdown",
   "metadata": {
    "deletable": true,
    "editable": true
   },
   "source": [
    "### Show Stats\n",
    "Implement the function `print_stats` to print loss and validation accuracy.  Use the global variables `valid_features` and `valid_labels` to calculate validation accuracy.  Use a keep probability of `1.0` to calculate the loss and validation accuracy."
   ]
  },
  {
   "cell_type": "code",
   "execution_count": 56,
   "metadata": {
    "collapsed": false,
    "deletable": true,
    "editable": true
   },
   "outputs": [],
   "source": [
    "def print_stats(session, feature_batch, label_batch, cost, accuracy):\n",
    "    \"\"\"\n",
    "    Print information about loss and validation accuracy\n",
    "    : session: Current TensorFlow session\n",
    "    : feature_batch: Batch of Numpy image data\n",
    "    : label_batch: Batch of Numpy label data\n",
    "    : cost: TensorFlow cost function\n",
    "    : accuracy: TensorFlow accuracy function\n",
    "    \"\"\"\n",
    "    # TODO: Implement Function\n",
    "    \n",
    "    # define the feed dictionary\n",
    "    feed_dict = {\n",
    "        'x:0': feature_batch,\n",
    "        'y:0': label_batch,\n",
    "        'keep_prob:0': 1}\n",
    "    \n",
    "    # TRAIN cost and accuracy\n",
    "    c_tr, a_tr = session.run([cost, accuracy], feed_dict)\n",
    "    \n",
    "    # feed dictionary for test\n",
    "    feed_dict = {\n",
    "        'x:0': valid_features,\n",
    "        'y:0': valid_labels,\n",
    "        'keep_prob:0': 1}\n",
    "    \n",
    "    # TEST cost and accuracy\n",
    "    c_val, a_val = session.run([cost, accuracy], feed_dict)\n",
    "    \n",
    "    # print the cost and the accuracy\n",
    "    print('Training Cost and Acc: ({:0.3f}, {:0.3f}) Validation: ({:0.3f}, {:0.3f})'.format(c_tr, a_tr, c_val, a_val))"
   ]
  },
  {
   "cell_type": "markdown",
   "metadata": {
    "deletable": true,
    "editable": true
   },
   "source": [
    "### Hyperparameters\n",
    "Tune the following parameters:\n",
    "* Set `epochs` to the number of iterations until the network stops learning or start overfitting\n",
    "* Set `batch_size` to the highest number that your machine has memory for.  Most people set them to common sizes of memory:\n",
    " * 64\n",
    " * 128\n",
    " * 256\n",
    " * ...\n",
    "* Set `keep_probability` to the probability of keeping a node using dropout"
   ]
  },
  {
   "cell_type": "code",
   "execution_count": 57,
   "metadata": {
    "collapsed": true,
    "deletable": true,
    "editable": true
   },
   "outputs": [],
   "source": [
    "# TODO: Tune Parameters\n",
    "#Tried a bunch, 5,20,40,50 epochs, 0.75,0.6,0.5 keep_prob, \n",
    "#always had batch_size at 2048 though since people in slack said it did not matter that much\n",
    "epochs = 50\n",
    "batch_size = 2048\n",
    "keep_probability = 0.5"
   ]
  },
  {
   "cell_type": "markdown",
   "metadata": {
    "deletable": true,
    "editable": true
   },
   "source": [
    "### Train on a Single CIFAR-10 Batch\n",
    "Instead of training the neural network on all the CIFAR-10 batches of data, let's use a single batch. This should save time while you iterate on the model to get a better accuracy.  Once the final validation accuracy is 50% or greater, run the model on all the data in the next section."
   ]
  },
  {
   "cell_type": "code",
   "execution_count": 58,
   "metadata": {
    "collapsed": false,
    "deletable": true,
    "editable": true
   },
   "outputs": [
    {
     "name": "stdout",
     "output_type": "stream",
     "text": [
      "Checking the Training on a Single Batch...\n",
      "Epoch  1, CIFAR-10 Batch 1:  Training Cost and Acc: (2.055, 0.115) Validation: (2.070, 0.100)\n",
      "Epoch  2, CIFAR-10 Batch 1:  Training Cost and Acc: (2.027, 0.157) Validation: (2.047, 0.141)\n",
      "Epoch  3, CIFAR-10 Batch 1:  Training Cost and Acc: (1.995, 0.177) Validation: (2.021, 0.163)\n",
      "Epoch  4, CIFAR-10 Batch 1:  Training Cost and Acc: (1.956, 0.210) Validation: (1.992, 0.206)\n",
      "Epoch  5, CIFAR-10 Batch 1:  Training Cost and Acc: (1.919, 0.246) Validation: (1.961, 0.235)\n",
      "Epoch  6, CIFAR-10 Batch 1:  Training Cost and Acc: (1.867, 0.270) Validation: (1.905, 0.262)\n",
      "Epoch  7, CIFAR-10 Batch 1:  Training Cost and Acc: (1.842, 0.288) Validation: (1.879, 0.270)\n",
      "Epoch  8, CIFAR-10 Batch 1:  Training Cost and Acc: (1.820, 0.300) Validation: (1.862, 0.275)\n",
      "Epoch  9, CIFAR-10 Batch 1:  Training Cost and Acc: (1.813, 0.300) Validation: (1.859, 0.275)\n",
      "Epoch 10, CIFAR-10 Batch 1:  Training Cost and Acc: (1.799, 0.312) Validation: (1.851, 0.277)\n",
      "Epoch 11, CIFAR-10 Batch 1:  Training Cost and Acc: (1.761, 0.333) Validation: (1.825, 0.289)\n",
      "Epoch 12, CIFAR-10 Batch 1:  Training Cost and Acc: (1.746, 0.337) Validation: (1.805, 0.308)\n",
      "Epoch 13, CIFAR-10 Batch 1:  Training Cost and Acc: (1.718, 0.351) Validation: (1.788, 0.316)\n",
      "Epoch 14, CIFAR-10 Batch 1:  Training Cost and Acc: (1.704, 0.363) Validation: (1.781, 0.317)\n",
      "Epoch 15, CIFAR-10 Batch 1:  Training Cost and Acc: (1.696, 0.366) Validation: (1.777, 0.317)\n",
      "Epoch 16, CIFAR-10 Batch 1:  Training Cost and Acc: (1.680, 0.381) Validation: (1.764, 0.330)\n",
      "Epoch 17, CIFAR-10 Batch 1:  Training Cost and Acc: (1.670, 0.377) Validation: (1.763, 0.323)\n",
      "Epoch 18, CIFAR-10 Batch 1:  Training Cost and Acc: (1.663, 0.376) Validation: (1.758, 0.323)\n",
      "Epoch 19, CIFAR-10 Batch 1:  Training Cost and Acc: (1.635, 0.386) Validation: (1.730, 0.345)\n",
      "Epoch 20, CIFAR-10 Batch 1:  Training Cost and Acc: (1.629, 0.389) Validation: (1.729, 0.333)\n",
      "Epoch 21, CIFAR-10 Batch 1:  Training Cost and Acc: (1.610, 0.384) Validation: (1.710, 0.354)\n",
      "Epoch 22, CIFAR-10 Batch 1:  Training Cost and Acc: (1.595, 0.396) Validation: (1.702, 0.352)\n",
      "Epoch 23, CIFAR-10 Batch 1:  Training Cost and Acc: (1.587, 0.403) Validation: (1.694, 0.363)\n",
      "Epoch 24, CIFAR-10 Batch 1:  Training Cost and Acc: (1.590, 0.405) Validation: (1.700, 0.357)\n",
      "Epoch 25, CIFAR-10 Batch 1:  Training Cost and Acc: (1.603, 0.405) Validation: (1.709, 0.356)\n",
      "Epoch 26, CIFAR-10 Batch 1:  Training Cost and Acc: (1.563, 0.408) Validation: (1.680, 0.363)\n",
      "Epoch 27, CIFAR-10 Batch 1:  Training Cost and Acc: (1.545, 0.412) Validation: (1.669, 0.362)\n",
      "Epoch 28, CIFAR-10 Batch 1:  Training Cost and Acc: (1.536, 0.425) Validation: (1.663, 0.367)\n",
      "Epoch 29, CIFAR-10 Batch 1:  Training Cost and Acc: (1.541, 0.432) Validation: (1.669, 0.375)\n",
      "Epoch 30, CIFAR-10 Batch 1:  Training Cost and Acc: (1.523, 0.432) Validation: (1.658, 0.376)\n",
      "Epoch 31, CIFAR-10 Batch 1:  Training Cost and Acc: (1.509, 0.431) Validation: (1.651, 0.373)\n",
      "Epoch 32, CIFAR-10 Batch 1:  Training Cost and Acc: (1.512, 0.416) Validation: (1.656, 0.360)\n",
      "Epoch 33, CIFAR-10 Batch 1:  Training Cost and Acc: (1.490, 0.434) Validation: (1.640, 0.383)\n",
      "Epoch 34, CIFAR-10 Batch 1:  Training Cost and Acc: (1.476, 0.434) Validation: (1.633, 0.387)\n",
      "Epoch 35, CIFAR-10 Batch 1:  Training Cost and Acc: (1.476, 0.433) Validation: (1.634, 0.382)\n",
      "Epoch 36, CIFAR-10 Batch 1:  Training Cost and Acc: (1.469, 0.438) Validation: (1.632, 0.389)\n",
      "Epoch 37, CIFAR-10 Batch 1:  Training Cost and Acc: (1.470, 0.449) Validation: (1.631, 0.404)\n",
      "Epoch 38, CIFAR-10 Batch 1:  Training Cost and Acc: (1.457, 0.452) Validation: (1.624, 0.401)\n",
      "Epoch 39, CIFAR-10 Batch 1:  Training Cost and Acc: (1.442, 0.454) Validation: (1.616, 0.387)\n",
      "Epoch 40, CIFAR-10 Batch 1:  Training Cost and Acc: (1.407, 0.452) Validation: (1.584, 0.389)\n",
      "Epoch 41, CIFAR-10 Batch 1:  Training Cost and Acc: (1.405, 0.462) Validation: (1.583, 0.396)\n",
      "Epoch 42, CIFAR-10 Batch 1:  Training Cost and Acc: (1.397, 0.474) Validation: (1.576, 0.394)\n",
      "Epoch 43, CIFAR-10 Batch 1:  Training Cost and Acc: (1.381, 0.470) Validation: (1.562, 0.408)\n",
      "Epoch 44, CIFAR-10 Batch 1:  Training Cost and Acc: (1.357, 0.474) Validation: (1.547, 0.412)\n",
      "Epoch 45, CIFAR-10 Batch 1:  Training Cost and Acc: (1.356, 0.488) Validation: (1.553, 0.406)\n",
      "Epoch 46, CIFAR-10 Batch 1:  Training Cost and Acc: (1.338, 0.483) Validation: (1.540, 0.409)\n",
      "Epoch 47, CIFAR-10 Batch 1:  Training Cost and Acc: (1.332, 0.481) Validation: (1.545, 0.411)\n",
      "Epoch 48, CIFAR-10 Batch 1:  Training Cost and Acc: (1.360, 0.479) Validation: (1.561, 0.396)\n",
      "Epoch 49, CIFAR-10 Batch 1:  Training Cost and Acc: (1.331, 0.475) Validation: (1.551, 0.407)\n",
      "Epoch 50, CIFAR-10 Batch 1:  Training Cost and Acc: (1.310, 0.502) Validation: (1.524, 0.426)\n"
     ]
    }
   ],
   "source": [
    "\"\"\"\n",
    "DON'T MODIFY ANYTHING IN THIS CELL\n",
    "\"\"\"\n",
    "print('Checking the Training on a Single Batch...')\n",
    "with tf.Session() as sess:\n",
    "    # Initializing the variables\n",
    "    sess.run(tf.global_variables_initializer())\n",
    "    \n",
    "    # Training cycle\n",
    "    for epoch in range(epochs):\n",
    "        batch_i = 1\n",
    "        for batch_features, batch_labels in helper.load_preprocess_training_batch(batch_i, batch_size):\n",
    "            train_neural_network(sess, optimizer, keep_probability, batch_features, batch_labels)\n",
    "        print('Epoch {:>2}, CIFAR-10 Batch {}:  '.format(epoch + 1, batch_i), end='')\n",
    "        print_stats(sess, batch_features, batch_labels, cost, accuracy)"
   ]
  },
  {
   "cell_type": "markdown",
   "metadata": {
    "deletable": true,
    "editable": true
   },
   "source": [
    "### Fully Train the Model\n",
    "Now that you got a good accuracy with a single CIFAR-10 batch, try it with all five batches."
   ]
  },
  {
   "cell_type": "code",
   "execution_count": 59,
   "metadata": {
    "collapsed": false,
    "deletable": true,
    "editable": true,
    "scrolled": false
   },
   "outputs": [
    {
     "name": "stdout",
     "output_type": "stream",
     "text": [
      "Training...\n",
      "Epoch  1, CIFAR-10 Batch 1:  Training Cost and Acc: (2.032, 0.239) Validation: (2.043, 0.228)\n",
      "Epoch  1, CIFAR-10 Batch 2:  Training Cost and Acc: (1.913, 0.230) Validation: (1.934, 0.250)\n",
      "Epoch  1, CIFAR-10 Batch 3:  Training Cost and Acc: (1.833, 0.306) Validation: (1.829, 0.299)\n",
      "Epoch  1, CIFAR-10 Batch 4:  Training Cost and Acc: (1.739, 0.311) Validation: (1.768, 0.313)\n",
      "Epoch  1, CIFAR-10 Batch 5:  Training Cost and Acc: (1.739, 0.295) Validation: (1.756, 0.311)\n",
      "Epoch  2, CIFAR-10 Batch 1:  Training Cost and Acc: (1.689, 0.342) Validation: (1.692, 0.330)\n",
      "Epoch  2, CIFAR-10 Batch 2:  Training Cost and Acc: (1.644, 0.360) Validation: (1.664, 0.361)\n",
      "Epoch  2, CIFAR-10 Batch 3:  Training Cost and Acc: (1.595, 0.395) Validation: (1.622, 0.370)\n",
      "Epoch  2, CIFAR-10 Batch 4:  Training Cost and Acc: (1.559, 0.391) Validation: (1.599, 0.383)\n",
      "Epoch  2, CIFAR-10 Batch 5:  Training Cost and Acc: (1.582, 0.359) Validation: (1.601, 0.373)\n",
      "Epoch  3, CIFAR-10 Batch 1:  Training Cost and Acc: (1.549, 0.397) Validation: (1.566, 0.386)\n",
      "Epoch  3, CIFAR-10 Batch 2:  Training Cost and Acc: (1.549, 0.395) Validation: (1.570, 0.387)\n",
      "Epoch  3, CIFAR-10 Batch 3:  Training Cost and Acc: (1.485, 0.443) Validation: (1.515, 0.404)\n",
      "Epoch  3, CIFAR-10 Batch 4:  Training Cost and Acc: (1.459, 0.439) Validation: (1.505, 0.414)\n",
      "Epoch  3, CIFAR-10 Batch 5:  Training Cost and Acc: (1.475, 0.396) Validation: (1.504, 0.411)\n",
      "Epoch  4, CIFAR-10 Batch 1:  Training Cost and Acc: (1.460, 0.457) Validation: (1.489, 0.419)\n",
      "Epoch  4, CIFAR-10 Batch 2:  Training Cost and Acc: (1.447, 0.431) Validation: (1.471, 0.427)\n",
      "Epoch  4, CIFAR-10 Batch 3:  Training Cost and Acc: (1.418, 0.449) Validation: (1.451, 0.434)\n",
      "Epoch  4, CIFAR-10 Batch 4:  Training Cost and Acc: (1.396, 0.444) Validation: (1.441, 0.439)\n",
      "Epoch  4, CIFAR-10 Batch 5:  Training Cost and Acc: (1.392, 0.448) Validation: (1.432, 0.434)\n",
      "Epoch  5, CIFAR-10 Batch 1:  Training Cost and Acc: (1.380, 0.464) Validation: (1.413, 0.449)\n",
      "Epoch  5, CIFAR-10 Batch 2:  Training Cost and Acc: (1.375, 0.455) Validation: (1.402, 0.448)\n",
      "Epoch  5, CIFAR-10 Batch 3:  Training Cost and Acc: (1.351, 0.505) Validation: (1.390, 0.467)\n",
      "Epoch  5, CIFAR-10 Batch 4:  Training Cost and Acc: (1.328, 0.474) Validation: (1.377, 0.467)\n",
      "Epoch  5, CIFAR-10 Batch 5:  Training Cost and Acc: (1.322, 0.468) Validation: (1.361, 0.465)\n",
      "Epoch  6, CIFAR-10 Batch 1:  Training Cost and Acc: (1.306, 0.485) Validation: (1.348, 0.471)\n",
      "Epoch  6, CIFAR-10 Batch 2:  Training Cost and Acc: (1.329, 0.483) Validation: (1.356, 0.475)\n",
      "Epoch  6, CIFAR-10 Batch 3:  Training Cost and Acc: (1.284, 0.524) Validation: (1.329, 0.488)\n",
      "Epoch  6, CIFAR-10 Batch 4:  Training Cost and Acc: (1.292, 0.486) Validation: (1.351, 0.481)\n",
      "Epoch  6, CIFAR-10 Batch 5:  Training Cost and Acc: (1.257, 0.498) Validation: (1.304, 0.487)\n",
      "Epoch  7, CIFAR-10 Batch 1:  Training Cost and Acc: (1.268, 0.509) Validation: (1.317, 0.489)\n",
      "Epoch  7, CIFAR-10 Batch 2:  Training Cost and Acc: (1.313, 0.467) Validation: (1.355, 0.475)\n",
      "Epoch  7, CIFAR-10 Batch 3:  Training Cost and Acc: (1.275, 0.524) Validation: (1.319, 0.486)\n",
      "Epoch  7, CIFAR-10 Batch 4:  Training Cost and Acc: (1.251, 0.501) Validation: (1.316, 0.485)\n",
      "Epoch  7, CIFAR-10 Batch 5:  Training Cost and Acc: (1.233, 0.509) Validation: (1.294, 0.489)\n",
      "Epoch  8, CIFAR-10 Batch 1:  Training Cost and Acc: (1.243, 0.517) Validation: (1.288, 0.496)\n",
      "Epoch  8, CIFAR-10 Batch 2:  Training Cost and Acc: (1.279, 0.489) Validation: (1.323, 0.491)\n",
      "Epoch  8, CIFAR-10 Batch 3:  Training Cost and Acc: (1.240, 0.525) Validation: (1.299, 0.501)\n",
      "Epoch  8, CIFAR-10 Batch 4:  Training Cost and Acc: (1.203, 0.509) Validation: (1.270, 0.506)\n",
      "Epoch  8, CIFAR-10 Batch 5:  Training Cost and Acc: (1.184, 0.520) Validation: (1.251, 0.516)\n",
      "Epoch  9, CIFAR-10 Batch 1:  Training Cost and Acc: (1.197, 0.540) Validation: (1.248, 0.514)\n",
      "Epoch  9, CIFAR-10 Batch 2:  Training Cost and Acc: (1.218, 0.512) Validation: (1.261, 0.509)\n",
      "Epoch  9, CIFAR-10 Batch 3:  Training Cost and Acc: (1.174, 0.564) Validation: (1.230, 0.529)\n",
      "Epoch  9, CIFAR-10 Batch 4:  Training Cost and Acc: (1.163, 0.540) Validation: (1.235, 0.525)\n",
      "Epoch  9, CIFAR-10 Batch 5:  Training Cost and Acc: (1.149, 0.531) Validation: (1.217, 0.526)\n",
      "Epoch 10, CIFAR-10 Batch 1:  Training Cost and Acc: (1.157, 0.545) Validation: (1.208, 0.540)\n",
      "Epoch 10, CIFAR-10 Batch 2:  Training Cost and Acc: (1.191, 0.524) Validation: (1.245, 0.516)\n",
      "Epoch 10, CIFAR-10 Batch 3:  Training Cost and Acc: (1.139, 0.571) Validation: (1.212, 0.537)\n",
      "Epoch 10, CIFAR-10 Batch 4:  Training Cost and Acc: (1.119, 0.558) Validation: (1.200, 0.540)\n",
      "Epoch 10, CIFAR-10 Batch 5:  Training Cost and Acc: (1.110, 0.563) Validation: (1.192, 0.535)\n",
      "Epoch 11, CIFAR-10 Batch 1:  Training Cost and Acc: (1.145, 0.561) Validation: (1.203, 0.545)\n",
      "Epoch 11, CIFAR-10 Batch 2:  Training Cost and Acc: (1.146, 0.547) Validation: (1.208, 0.533)\n",
      "Epoch 11, CIFAR-10 Batch 3:  Training Cost and Acc: (1.094, 0.600) Validation: (1.172, 0.546)\n",
      "Epoch 11, CIFAR-10 Batch 4:  Training Cost and Acc: (1.096, 0.575) Validation: (1.181, 0.562)\n",
      "Epoch 11, CIFAR-10 Batch 5:  Training Cost and Acc: (1.082, 0.566) Validation: (1.174, 0.540)\n",
      "Epoch 12, CIFAR-10 Batch 1:  Training Cost and Acc: (1.103, 0.572) Validation: (1.175, 0.558)\n",
      "Epoch 12, CIFAR-10 Batch 2:  Training Cost and Acc: (1.153, 0.536) Validation: (1.219, 0.529)\n",
      "Epoch 12, CIFAR-10 Batch 3:  Training Cost and Acc: (1.106, 0.589) Validation: (1.193, 0.544)\n",
      "Epoch 12, CIFAR-10 Batch 4:  Training Cost and Acc: (1.080, 0.579) Validation: (1.172, 0.553)\n",
      "Epoch 12, CIFAR-10 Batch 5:  Training Cost and Acc: (1.055, 0.573) Validation: (1.153, 0.557)\n",
      "Epoch 13, CIFAR-10 Batch 1:  Training Cost and Acc: (1.082, 0.559) Validation: (1.159, 0.551)\n",
      "Epoch 13, CIFAR-10 Batch 2:  Training Cost and Acc: (1.112, 0.556) Validation: (1.185, 0.540)\n",
      "Epoch 13, CIFAR-10 Batch 3:  Training Cost and Acc: (1.042, 0.614) Validation: (1.138, 0.570)\n",
      "Epoch 13, CIFAR-10 Batch 4:  Training Cost and Acc: (1.059, 0.592) Validation: (1.154, 0.577)\n",
      "Epoch 13, CIFAR-10 Batch 5:  Training Cost and Acc: (1.033, 0.587) Validation: (1.139, 0.565)\n",
      "Epoch 14, CIFAR-10 Batch 1:  Training Cost and Acc: (1.058, 0.584) Validation: (1.131, 0.580)\n",
      "Epoch 14, CIFAR-10 Batch 2:  Training Cost and Acc: (1.062, 0.600) Validation: (1.137, 0.574)\n",
      "Epoch 14, CIFAR-10 Batch 3:  Training Cost and Acc: (1.008, 0.629) Validation: (1.117, 0.568)\n",
      "Epoch 14, CIFAR-10 Batch 4:  Training Cost and Acc: (1.041, 0.605) Validation: (1.145, 0.575)\n",
      "Epoch 14, CIFAR-10 Batch 5:  Training Cost and Acc: (0.982, 0.604) Validation: (1.100, 0.574)\n",
      "Epoch 15, CIFAR-10 Batch 1:  Training Cost and Acc: (1.015, 0.594) Validation: (1.098, 0.579)\n",
      "Epoch 15, CIFAR-10 Batch 2:  Training Cost and Acc: (1.042, 0.610) Validation: (1.123, 0.567)\n",
      "Epoch 15, CIFAR-10 Batch 3:  Training Cost and Acc: (0.988, 0.636) Validation: (1.093, 0.586)\n",
      "Epoch 15, CIFAR-10 Batch 4:  Training Cost and Acc: (1.000, 0.609) Validation: (1.101, 0.581)\n",
      "Epoch 15, CIFAR-10 Batch 5:  Training Cost and Acc: (0.947, 0.610) Validation: (1.074, 0.579)\n",
      "Epoch 16, CIFAR-10 Batch 1:  Training Cost and Acc: (0.993, 0.606) Validation: (1.081, 0.593)\n",
      "Epoch 16, CIFAR-10 Batch 2:  Training Cost and Acc: (0.993, 0.619) Validation: (1.088, 0.580)\n",
      "Epoch 16, CIFAR-10 Batch 3:  Training Cost and Acc: (0.969, 0.657) Validation: (1.080, 0.589)\n",
      "Epoch 16, CIFAR-10 Batch 4:  Training Cost and Acc: (1.004, 0.600) Validation: (1.110, 0.577)\n",
      "Epoch 16, CIFAR-10 Batch 5:  Training Cost and Acc: (0.937, 0.626) Validation: (1.069, 0.590)\n",
      "Epoch 17, CIFAR-10 Batch 1:  Training Cost and Acc: (0.983, 0.604) Validation: (1.077, 0.593)\n",
      "Epoch 17, CIFAR-10 Batch 2:  Training Cost and Acc: (0.986, 0.626) Validation: (1.089, 0.584)\n",
      "Epoch 17, CIFAR-10 Batch 3:  Training Cost and Acc: (0.955, 0.658) Validation: (1.081, 0.598)\n",
      "Epoch 17, CIFAR-10 Batch 4:  Training Cost and Acc: (0.987, 0.609) Validation: (1.100, 0.590)\n",
      "Epoch 17, CIFAR-10 Batch 5:  Training Cost and Acc: (0.921, 0.624) Validation: (1.059, 0.582)\n",
      "Epoch 18, CIFAR-10 Batch 1:  Training Cost and Acc: (0.959, 0.629) Validation: (1.053, 0.605)\n",
      "Epoch 18, CIFAR-10 Batch 2:  Training Cost and Acc: (0.955, 0.630) Validation: (1.054, 0.594)\n",
      "Epoch 18, CIFAR-10 Batch 3:  Training Cost and Acc: (0.908, 0.672) Validation: (1.033, 0.605)\n",
      "Epoch 18, CIFAR-10 Batch 4:  Training Cost and Acc: (0.937, 0.636) Validation: (1.053, 0.610)\n",
      "Epoch 18, CIFAR-10 Batch 5:  Training Cost and Acc: (0.884, 0.639) Validation: (1.034, 0.592)\n",
      "Epoch 19, CIFAR-10 Batch 1:  Training Cost and Acc: (0.926, 0.640) Validation: (1.034, 0.606)\n",
      "Epoch 19, CIFAR-10 Batch 2:  Training Cost and Acc: (0.941, 0.642) Validation: (1.048, 0.599)\n",
      "Epoch 19, CIFAR-10 Batch 3:  Training Cost and Acc: (0.892, 0.688) Validation: (1.026, 0.607)\n",
      "Epoch 19, CIFAR-10 Batch 4:  Training Cost and Acc: (0.933, 0.646) Validation: (1.057, 0.606)\n",
      "Epoch 19, CIFAR-10 Batch 5:  Training Cost and Acc: (0.867, 0.662) Validation: (1.022, 0.612)\n",
      "Epoch 20, CIFAR-10 Batch 1:  Training Cost and Acc: (0.926, 0.647) Validation: (1.035, 0.614)\n",
      "Epoch 20, CIFAR-10 Batch 2:  Training Cost and Acc: (0.910, 0.661) Validation: (1.034, 0.606)\n",
      "Epoch 20, CIFAR-10 Batch 3:  Training Cost and Acc: (0.894, 0.688) Validation: (1.029, 0.616)\n",
      "Epoch 20, CIFAR-10 Batch 4:  Training Cost and Acc: (0.902, 0.671) Validation: (1.032, 0.620)\n",
      "Epoch 20, CIFAR-10 Batch 5:  Training Cost and Acc: (0.853, 0.666) Validation: (1.009, 0.614)\n",
      "Epoch 21, CIFAR-10 Batch 1:  Training Cost and Acc: (0.895, 0.640) Validation: (1.014, 0.608)\n",
      "Epoch 21, CIFAR-10 Batch 2:  Training Cost and Acc: (0.910, 0.661) Validation: (1.021, 0.613)\n",
      "Epoch 21, CIFAR-10 Batch 3:  Training Cost and Acc: (0.875, 0.682) Validation: (1.011, 0.615)\n",
      "Epoch 21, CIFAR-10 Batch 4:  Training Cost and Acc: (0.898, 0.656) Validation: (1.025, 0.623)\n",
      "Epoch 21, CIFAR-10 Batch 5:  Training Cost and Acc: (0.867, 0.630) Validation: (1.031, 0.581)\n",
      "Epoch 22, CIFAR-10 Batch 1:  Training Cost and Acc: (0.879, 0.667) Validation: (1.000, 0.610)\n",
      "Epoch 22, CIFAR-10 Batch 2:  Training Cost and Acc: (0.900, 0.649) Validation: (1.011, 0.612)\n",
      "Epoch 22, CIFAR-10 Batch 3:  Training Cost and Acc: (0.861, 0.687) Validation: (1.004, 0.616)\n",
      "Epoch 22, CIFAR-10 Batch 4:  Training Cost and Acc: (0.875, 0.640) Validation: (1.010, 0.622)\n",
      "Epoch 22, CIFAR-10 Batch 5:  Training Cost and Acc: (0.813, 0.672) Validation: (0.984, 0.619)\n",
      "Epoch 23, CIFAR-10 Batch 1:  Training Cost and Acc: (0.869, 0.661) Validation: (0.995, 0.627)\n",
      "Epoch 23, CIFAR-10 Batch 2:  Training Cost and Acc: (0.862, 0.672) Validation: (0.983, 0.627)\n",
      "Epoch 23, CIFAR-10 Batch 3:  Training Cost and Acc: (0.830, 0.703) Validation: (0.980, 0.624)\n",
      "Epoch 23, CIFAR-10 Batch 4:  Training Cost and Acc: (0.843, 0.655) Validation: (0.985, 0.627)\n",
      "Epoch 23, CIFAR-10 Batch 5:  Training Cost and Acc: (0.796, 0.678) Validation: (0.969, 0.620)\n",
      "Epoch 24, CIFAR-10 Batch 1:  Training Cost and Acc: (0.842, 0.663) Validation: (0.980, 0.620)\n",
      "Epoch 24, CIFAR-10 Batch 2:  Training Cost and Acc: (0.879, 0.673) Validation: (0.997, 0.632)\n",
      "Epoch 24, CIFAR-10 Batch 3:  Training Cost and Acc: (0.814, 0.708) Validation: (0.973, 0.632)\n",
      "Epoch 24, CIFAR-10 Batch 4:  Training Cost and Acc: (0.841, 0.681) Validation: (0.987, 0.633)\n",
      "Epoch 24, CIFAR-10 Batch 5:  Training Cost and Acc: (0.785, 0.686) Validation: (0.963, 0.628)\n",
      "Epoch 25, CIFAR-10 Batch 1:  Training Cost and Acc: (0.839, 0.678) Validation: (0.976, 0.628)\n",
      "Epoch 25, CIFAR-10 Batch 2:  Training Cost and Acc: (0.826, 0.702) Validation: (0.970, 0.635)\n",
      "Epoch 25, CIFAR-10 Batch 3:  Training Cost and Acc: (0.806, 0.708) Validation: (0.966, 0.631)\n",
      "Epoch 25, CIFAR-10 Batch 4:  Training Cost and Acc: (0.823, 0.684) Validation: (0.979, 0.631)\n",
      "Epoch 25, CIFAR-10 Batch 5:  Training Cost and Acc: (0.770, 0.698) Validation: (0.952, 0.633)\n",
      "Epoch 26, CIFAR-10 Batch 1:  Training Cost and Acc: (0.819, 0.691) Validation: (0.967, 0.631)\n",
      "Epoch 26, CIFAR-10 Batch 2:  Training Cost and Acc: (0.822, 0.693) Validation: (0.964, 0.635)\n",
      "Epoch 26, CIFAR-10 Batch 3:  Training Cost and Acc: (0.791, 0.715) Validation: (0.963, 0.631)\n",
      "Epoch 26, CIFAR-10 Batch 4:  Training Cost and Acc: (0.808, 0.694) Validation: (0.965, 0.645)\n",
      "Epoch 26, CIFAR-10 Batch 5:  Training Cost and Acc: (0.751, 0.698) Validation: (0.944, 0.630)\n",
      "Epoch 27, CIFAR-10 Batch 1:  Training Cost and Acc: (0.826, 0.689) Validation: (0.978, 0.635)\n",
      "Epoch 27, CIFAR-10 Batch 2:  Training Cost and Acc: (0.814, 0.677) Validation: (0.964, 0.618)\n",
      "Epoch 27, CIFAR-10 Batch 3:  Training Cost and Acc: (0.799, 0.693) Validation: (0.964, 0.624)\n",
      "Epoch 27, CIFAR-10 Batch 4:  Training Cost and Acc: (0.826, 0.709) Validation: (0.990, 0.647)\n",
      "Epoch 27, CIFAR-10 Batch 5:  Training Cost and Acc: (0.760, 0.691) Validation: (0.957, 0.626)\n",
      "Epoch 28, CIFAR-10 Batch 1:  Training Cost and Acc: (0.797, 0.688) Validation: (0.952, 0.631)\n",
      "Epoch 28, CIFAR-10 Batch 2:  Training Cost and Acc: (0.823, 0.707) Validation: (0.968, 0.639)\n",
      "Epoch 28, CIFAR-10 Batch 3:  Training Cost and Acc: (0.768, 0.714) Validation: (0.946, 0.639)\n",
      "Epoch 28, CIFAR-10 Batch 4:  Training Cost and Acc: (0.792, 0.704) Validation: (0.957, 0.638)\n",
      "Epoch 28, CIFAR-10 Batch 5:  Training Cost and Acc: (0.740, 0.696) Validation: (0.938, 0.633)\n",
      "Epoch 29, CIFAR-10 Batch 1:  Training Cost and Acc: (0.780, 0.691) Validation: (0.940, 0.638)\n",
      "Epoch 29, CIFAR-10 Batch 2:  Training Cost and Acc: (0.831, 0.667) Validation: (0.989, 0.625)\n",
      "Epoch 29, CIFAR-10 Batch 3:  Training Cost and Acc: (0.798, 0.719) Validation: (0.971, 0.634)\n",
      "Epoch 29, CIFAR-10 Batch 4:  Training Cost and Acc: (0.787, 0.707) Validation: (0.951, 0.648)\n",
      "Epoch 29, CIFAR-10 Batch 5:  Training Cost and Acc: (0.726, 0.717) Validation: (0.927, 0.643)\n",
      "Epoch 30, CIFAR-10 Batch 1:  Training Cost and Acc: (0.770, 0.708) Validation: (0.931, 0.651)\n",
      "Epoch 30, CIFAR-10 Batch 2:  Training Cost and Acc: (0.798, 0.703) Validation: (0.950, 0.645)\n",
      "Epoch 30, CIFAR-10 Batch 3:  Training Cost and Acc: (0.753, 0.723) Validation: (0.936, 0.646)\n",
      "Epoch 30, CIFAR-10 Batch 4:  Training Cost and Acc: (0.757, 0.722) Validation: (0.931, 0.653)\n",
      "Epoch 30, CIFAR-10 Batch 5:  Training Cost and Acc: (0.709, 0.713) Validation: (0.921, 0.639)\n",
      "Epoch 31, CIFAR-10 Batch 1:  Training Cost and Acc: (0.756, 0.709) Validation: (0.927, 0.658)\n",
      "Epoch 31, CIFAR-10 Batch 2:  Training Cost and Acc: (0.766, 0.720) Validation: (0.935, 0.649)\n",
      "Epoch 31, CIFAR-10 Batch 3:  Training Cost and Acc: (0.737, 0.734) Validation: (0.934, 0.650)\n",
      "Epoch 31, CIFAR-10 Batch 4:  Training Cost and Acc: (0.744, 0.717) Validation: (0.924, 0.650)\n",
      "Epoch 31, CIFAR-10 Batch 5:  Training Cost and Acc: (0.713, 0.717) Validation: (0.927, 0.637)\n",
      "Epoch 32, CIFAR-10 Batch 1:  Training Cost and Acc: (0.750, 0.729) Validation: (0.930, 0.663)\n",
      "Epoch 32, CIFAR-10 Batch 2:  Training Cost and Acc: (0.747, 0.734) Validation: (0.922, 0.651)\n",
      "Epoch 32, CIFAR-10 Batch 3:  Training Cost and Acc: (0.727, 0.725) Validation: (0.926, 0.650)\n",
      "Epoch 32, CIFAR-10 Batch 4:  Training Cost and Acc: (0.738, 0.720) Validation: (0.927, 0.655)\n",
      "Epoch 32, CIFAR-10 Batch 5:  Training Cost and Acc: (0.705, 0.726) Validation: (0.925, 0.647)\n",
      "Epoch 33, CIFAR-10 Batch 1:  Training Cost and Acc: (0.750, 0.709) Validation: (0.926, 0.649)\n",
      "Epoch 33, CIFAR-10 Batch 2:  Training Cost and Acc: (0.735, 0.724) Validation: (0.912, 0.656)\n",
      "Epoch 33, CIFAR-10 Batch 3:  Training Cost and Acc: (0.723, 0.733) Validation: (0.930, 0.654)\n",
      "Epoch 33, CIFAR-10 Batch 4:  Training Cost and Acc: (0.724, 0.733) Validation: (0.912, 0.658)\n",
      "Epoch 33, CIFAR-10 Batch 5:  Training Cost and Acc: (0.688, 0.714) Validation: (0.923, 0.630)\n",
      "Epoch 34, CIFAR-10 Batch 1:  Training Cost and Acc: (0.744, 0.728) Validation: (0.926, 0.665)\n",
      "Epoch 34, CIFAR-10 Batch 2:  Training Cost and Acc: (0.742, 0.731) Validation: (0.925, 0.656)\n",
      "Epoch 34, CIFAR-10 Batch 3:  Training Cost and Acc: (0.700, 0.743) Validation: (0.915, 0.652)\n",
      "Epoch 34, CIFAR-10 Batch 4:  Training Cost and Acc: (0.707, 0.743) Validation: (0.902, 0.667)\n",
      "Epoch 34, CIFAR-10 Batch 5:  Training Cost and Acc: (0.666, 0.746) Validation: (0.896, 0.654)\n",
      "Epoch 35, CIFAR-10 Batch 1:  Training Cost and Acc: (0.715, 0.729) Validation: (0.900, 0.665)\n",
      "Epoch 35, CIFAR-10 Batch 2:  Training Cost and Acc: (0.696, 0.734) Validation: (0.896, 0.649)\n",
      "Epoch 35, CIFAR-10 Batch 3:  Training Cost and Acc: (0.701, 0.743) Validation: (0.902, 0.660)\n",
      "Epoch 35, CIFAR-10 Batch 4:  Training Cost and Acc: (0.708, 0.735) Validation: (0.909, 0.664)\n",
      "Epoch 35, CIFAR-10 Batch 5:  Training Cost and Acc: (0.669, 0.731) Validation: (0.906, 0.648)\n",
      "Epoch 36, CIFAR-10 Batch 1:  Training Cost and Acc: (0.730, 0.730) Validation: (0.917, 0.665)\n",
      "Epoch 36, CIFAR-10 Batch 2:  Training Cost and Acc: (0.710, 0.749) Validation: (0.910, 0.658)\n",
      "Epoch 36, CIFAR-10 Batch 3:  Training Cost and Acc: (0.692, 0.739) Validation: (0.906, 0.650)\n",
      "Epoch 36, CIFAR-10 Batch 4:  Training Cost and Acc: (0.720, 0.745) Validation: (0.922, 0.666)\n",
      "Epoch 36, CIFAR-10 Batch 5:  Training Cost and Acc: (0.676, 0.728) Validation: (0.913, 0.650)\n",
      "Epoch 37, CIFAR-10 Batch 1:  Training Cost and Acc: (0.698, 0.736) Validation: (0.903, 0.668)\n",
      "Epoch 37, CIFAR-10 Batch 2:  Training Cost and Acc: (0.709, 0.744) Validation: (0.919, 0.647)\n",
      "Epoch 37, CIFAR-10 Batch 3:  Training Cost and Acc: (0.702, 0.751) Validation: (0.924, 0.662)\n",
      "Epoch 37, CIFAR-10 Batch 4:  Training Cost and Acc: (0.713, 0.748) Validation: (0.925, 0.659)\n",
      "Epoch 37, CIFAR-10 Batch 5:  Training Cost and Acc: (0.655, 0.741) Validation: (0.894, 0.657)\n",
      "Epoch 38, CIFAR-10 Batch 1:  Training Cost and Acc: (0.694, 0.741) Validation: (0.902, 0.665)\n",
      "Epoch 38, CIFAR-10 Batch 2:  Training Cost and Acc: (0.681, 0.734) Validation: (0.903, 0.649)\n",
      "Epoch 38, CIFAR-10 Batch 3:  Training Cost and Acc: (0.661, 0.751) Validation: (0.888, 0.664)\n",
      "Epoch 38, CIFAR-10 Batch 4:  Training Cost and Acc: (0.696, 0.754) Validation: (0.919, 0.670)\n",
      "Epoch 38, CIFAR-10 Batch 5:  Training Cost and Acc: (0.648, 0.729) Validation: (0.905, 0.644)\n",
      "Epoch 39, CIFAR-10 Batch 1:  Training Cost and Acc: (0.680, 0.745) Validation: (0.890, 0.670)\n",
      "Epoch 39, CIFAR-10 Batch 2:  Training Cost and Acc: (0.664, 0.748) Validation: (0.893, 0.663)\n",
      "Epoch 39, CIFAR-10 Batch 3:  Training Cost and Acc: (0.654, 0.761) Validation: (0.894, 0.666)\n",
      "Epoch 39, CIFAR-10 Batch 4:  Training Cost and Acc: (0.660, 0.762) Validation: (0.881, 0.672)\n",
      "Epoch 39, CIFAR-10 Batch 5:  Training Cost and Acc: (0.642, 0.745) Validation: (0.899, 0.648)\n",
      "Epoch 40, CIFAR-10 Batch 1:  Training Cost and Acc: (0.672, 0.748) Validation: (0.890, 0.675)\n",
      "Epoch 40, CIFAR-10 Batch 2:  Training Cost and Acc: (0.658, 0.751) Validation: (0.891, 0.659)\n",
      "Epoch 40, CIFAR-10 Batch 3:  Training Cost and Acc: (0.634, 0.762) Validation: (0.891, 0.662)\n",
      "Epoch 40, CIFAR-10 Batch 4:  Training Cost and Acc: (0.673, 0.771) Validation: (0.898, 0.680)\n",
      "Epoch 40, CIFAR-10 Batch 5:  Training Cost and Acc: (0.612, 0.754) Validation: (0.872, 0.665)\n",
      "Epoch 41, CIFAR-10 Batch 1:  Training Cost and Acc: (0.660, 0.751) Validation: (0.883, 0.675)\n",
      "Epoch 41, CIFAR-10 Batch 2:  Training Cost and Acc: (0.638, 0.754) Validation: (0.869, 0.669)\n",
      "Epoch 41, CIFAR-10 Batch 3:  Training Cost and Acc: (0.637, 0.766) Validation: (0.887, 0.681)\n",
      "Epoch 41, CIFAR-10 Batch 4:  Training Cost and Acc: (0.656, 0.775) Validation: (0.891, 0.682)\n",
      "Epoch 41, CIFAR-10 Batch 5:  Training Cost and Acc: (0.630, 0.751) Validation: (0.902, 0.655)\n",
      "Epoch 42, CIFAR-10 Batch 1:  Training Cost and Acc: (0.651, 0.751) Validation: (0.875, 0.672)\n",
      "Epoch 42, CIFAR-10 Batch 2:  Training Cost and Acc: (0.636, 0.765) Validation: (0.872, 0.671)\n",
      "Epoch 42, CIFAR-10 Batch 3:  Training Cost and Acc: (0.627, 0.766) Validation: (0.897, 0.672)\n",
      "Epoch 42, CIFAR-10 Batch 4:  Training Cost and Acc: (0.681, 0.781) Validation: (0.916, 0.684)\n",
      "Epoch 42, CIFAR-10 Batch 5:  Training Cost and Acc: (0.631, 0.764) Validation: (0.887, 0.676)\n",
      "Epoch 43, CIFAR-10 Batch 1:  Training Cost and Acc: (0.652, 0.756) Validation: (0.885, 0.676)\n",
      "Epoch 43, CIFAR-10 Batch 2:  Training Cost and Acc: (0.642, 0.746) Validation: (0.892, 0.656)\n",
      "Epoch 43, CIFAR-10 Batch 3:  Training Cost and Acc: (0.608, 0.767) Validation: (0.874, 0.672)\n",
      "Epoch 43, CIFAR-10 Batch 4:  Training Cost and Acc: (0.626, 0.782) Validation: (0.877, 0.678)\n",
      "Epoch 43, CIFAR-10 Batch 5:  Training Cost and Acc: (0.622, 0.766) Validation: (0.877, 0.674)\n",
      "Epoch 44, CIFAR-10 Batch 1:  Training Cost and Acc: (0.655, 0.749) Validation: (0.884, 0.677)\n",
      "Epoch 44, CIFAR-10 Batch 2:  Training Cost and Acc: (0.633, 0.767) Validation: (0.877, 0.680)\n",
      "Epoch 44, CIFAR-10 Batch 3:  Training Cost and Acc: (0.613, 0.765) Validation: (0.881, 0.664)\n",
      "Epoch 44, CIFAR-10 Batch 4:  Training Cost and Acc: (0.631, 0.782) Validation: (0.888, 0.671)\n",
      "Epoch 44, CIFAR-10 Batch 5:  Training Cost and Acc: (0.610, 0.748) Validation: (0.894, 0.651)\n",
      "Epoch 45, CIFAR-10 Batch 1:  Training Cost and Acc: (0.640, 0.755) Validation: (0.873, 0.683)\n",
      "Epoch 45, CIFAR-10 Batch 2:  Training Cost and Acc: (0.615, 0.777) Validation: (0.861, 0.678)\n",
      "Epoch 45, CIFAR-10 Batch 3:  Training Cost and Acc: (0.589, 0.769) Validation: (0.856, 0.672)\n",
      "Epoch 45, CIFAR-10 Batch 4:  Training Cost and Acc: (0.610, 0.785) Validation: (0.870, 0.689)\n",
      "Epoch 45, CIFAR-10 Batch 5:  Training Cost and Acc: (0.580, 0.765) Validation: (0.863, 0.665)\n",
      "Epoch 46, CIFAR-10 Batch 1:  Training Cost and Acc: (0.609, 0.762) Validation: (0.859, 0.681)\n",
      "Epoch 46, CIFAR-10 Batch 2:  Training Cost and Acc: (0.616, 0.782) Validation: (0.867, 0.687)\n",
      "Epoch 46, CIFAR-10 Batch 3:  Training Cost and Acc: (0.586, 0.781) Validation: (0.864, 0.678)\n",
      "Epoch 46, CIFAR-10 Batch 4:  Training Cost and Acc: (0.607, 0.797) Validation: (0.874, 0.686)\n",
      "Epoch 46, CIFAR-10 Batch 5:  Training Cost and Acc: (0.578, 0.765) Validation: (0.868, 0.669)\n",
      "Epoch 47, CIFAR-10 Batch 1:  Training Cost and Acc: (0.613, 0.765) Validation: (0.862, 0.681)\n",
      "Epoch 47, CIFAR-10 Batch 2:  Training Cost and Acc: (0.603, 0.766) Validation: (0.862, 0.674)\n",
      "Epoch 47, CIFAR-10 Batch 3:  Training Cost and Acc: (0.575, 0.785) Validation: (0.862, 0.680)\n",
      "Epoch 47, CIFAR-10 Batch 4:  Training Cost and Acc: (0.593, 0.790) Validation: (0.863, 0.687)\n",
      "Epoch 47, CIFAR-10 Batch 5:  Training Cost and Acc: (0.576, 0.765) Validation: (0.873, 0.664)\n",
      "Epoch 48, CIFAR-10 Batch 1:  Training Cost and Acc: (0.600, 0.774) Validation: (0.858, 0.685)\n",
      "Epoch 48, CIFAR-10 Batch 2:  Training Cost and Acc: (0.597, 0.792) Validation: (0.861, 0.684)\n",
      "Epoch 48, CIFAR-10 Batch 3:  Training Cost and Acc: (0.592, 0.775) Validation: (0.875, 0.664)\n",
      "Epoch 48, CIFAR-10 Batch 4:  Training Cost and Acc: (0.593, 0.804) Validation: (0.869, 0.694)\n",
      "Epoch 48, CIFAR-10 Batch 5:  Training Cost and Acc: (0.570, 0.785) Validation: (0.859, 0.684)\n",
      "Epoch 49, CIFAR-10 Batch 1:  Training Cost and Acc: (0.587, 0.769) Validation: (0.848, 0.690)\n",
      "Epoch 49, CIFAR-10 Batch 2:  Training Cost and Acc: (0.600, 0.770) Validation: (0.870, 0.680)\n",
      "Epoch 49, CIFAR-10 Batch 3:  Training Cost and Acc: (0.556, 0.791) Validation: (0.841, 0.686)\n",
      "Epoch 49, CIFAR-10 Batch 4:  Training Cost and Acc: (0.583, 0.793) Validation: (0.864, 0.691)\n",
      "Epoch 49, CIFAR-10 Batch 5:  Training Cost and Acc: (0.560, 0.777) Validation: (0.854, 0.674)\n",
      "Epoch 50, CIFAR-10 Batch 1:  Training Cost and Acc: (0.584, 0.775) Validation: (0.845, 0.683)\n",
      "Epoch 50, CIFAR-10 Batch 2:  Training Cost and Acc: (0.585, 0.792) Validation: (0.855, 0.687)\n",
      "Epoch 50, CIFAR-10 Batch 3:  Training Cost and Acc: (0.568, 0.791) Validation: (0.859, 0.678)\n",
      "Epoch 50, CIFAR-10 Batch 4:  Training Cost and Acc: (0.568, 0.795) Validation: (0.852, 0.685)\n",
      "Epoch 50, CIFAR-10 Batch 5:  Training Cost and Acc: (0.544, 0.787) Validation: (0.845, 0.679)\n"
     ]
    }
   ],
   "source": [
    "\"\"\"\n",
    "DON'T MODIFY ANYTHING IN THIS CELL\n",
    "\"\"\"\n",
    "save_model_path = './image_classification'\n",
    "\n",
    "print('Training...')\n",
    "with tf.Session() as sess:\n",
    "    # Initializing the variables\n",
    "    sess.run(tf.global_variables_initializer())\n",
    "    \n",
    "    # Training cycle\n",
    "    for epoch in range(epochs):\n",
    "        # Loop over all batches\n",
    "        n_batches = 5\n",
    "        for batch_i in range(1, n_batches + 1):\n",
    "            for batch_features, batch_labels in helper.load_preprocess_training_batch(batch_i, batch_size):\n",
    "                train_neural_network(sess, optimizer, keep_probability, batch_features, batch_labels)\n",
    "            print('Epoch {:>2}, CIFAR-10 Batch {}:  '.format(epoch + 1, batch_i), end='')\n",
    "            print_stats(sess, batch_features, batch_labels, cost, accuracy)\n",
    "            \n",
    "    # Save Model\n",
    "    saver = tf.train.Saver()\n",
    "    save_path = saver.save(sess, save_model_path)"
   ]
  },
  {
   "cell_type": "markdown",
   "metadata": {
    "deletable": true,
    "editable": true
   },
   "source": [
    "# Checkpoint\n",
    "The model has been saved to disk.\n",
    "## Test Model\n",
    "Test your model against the test dataset.  This will be your final accuracy. You should have an accuracy greater than 50%. If you don't, keep tweaking the model architecture and parameters."
   ]
  },
  {
   "cell_type": "code",
   "execution_count": 60,
   "metadata": {
    "collapsed": false,
    "deletable": true,
    "editable": true
   },
   "outputs": [
    {
     "name": "stdout",
     "output_type": "stream",
     "text": [
      "Testing Accuracy: 0.6734841585159301\n",
      "\n"
     ]
    },
    {
     "data": {
      "image/png": "[encoded data removed]",
      "text/plain": [
       "<matplotlib.figure.Figure at 0x7f86841d94e0>"
      ]
     },
     "metadata": {
      "image/png": {
       "height": 319,
       "width": 355
      }
     },
     "output_type": "display_data"
    }
   ],
   "source": [
    "\"\"\"\n",
    "DON'T MODIFY ANYTHING IN THIS CELL\n",
    "\"\"\"\n",
    "%matplotlib inline\n",
    "%config InlineBackend.figure_format = 'retina'\n",
    "\n",
    "import tensorflow as tf\n",
    "import pickle\n",
    "import helper\n",
    "import random\n",
    "\n",
    "# Set batch size if not already set\n",
    "try:\n",
    "    if batch_size:\n",
    "        pass\n",
    "except NameError:\n",
    "    batch_size = 64\n",
    "\n",
    "save_model_path = './image_classification'\n",
    "n_samples = 4\n",
    "top_n_predictions = 3\n",
    "\n",
    "def test_model():\n",
    "    \"\"\"\n",
    "    Test the saved model against the test dataset\n",
    "    \"\"\"\n",
    "\n",
    "    test_features, test_labels = pickle.load(open('preprocess_training.p', mode='rb'))\n",
    "    loaded_graph = tf.Graph()\n",
    "\n",
    "    with tf.Session(graph=loaded_graph) as sess:\n",
    "        # Load model\n",
    "        loader = tf.train.import_meta_graph(save_model_path + '.meta')\n",
    "        loader.restore(sess, save_model_path)\n",
    "\n",
    "        # Get Tensors from loaded model\n",
    "        loaded_x = loaded_graph.get_tensor_by_name('x:0')\n",
    "        loaded_y = loaded_graph.get_tensor_by_name('y:0')\n",
    "        loaded_keep_prob = loaded_graph.get_tensor_by_name('keep_prob:0')\n",
    "        loaded_logits = loaded_graph.get_tensor_by_name('logits:0')\n",
    "        loaded_acc = loaded_graph.get_tensor_by_name('accuracy:0')\n",
    "        \n",
    "        # Get accuracy in batches for memory limitations\n",
    "        test_batch_acc_total = 0\n",
    "        test_batch_count = 0\n",
    "        \n",
    "        for train_feature_batch, train_label_batch in helper.batch_features_labels(test_features, test_labels, batch_size):\n",
    "            test_batch_acc_total += sess.run(\n",
    "                loaded_acc,\n",
    "                feed_dict={loaded_x: train_feature_batch, loaded_y: train_label_batch, loaded_keep_prob: 1.0})\n",
    "            test_batch_count += 1\n",
    "\n",
    "        print('Testing Accuracy: {}\\n'.format(test_batch_acc_total/test_batch_count))\n",
    "\n",
    "        # Print Random Samples\n",
    "        random_test_features, random_test_labels = tuple(zip(*random.sample(list(zip(test_features, test_labels)), n_samples)))\n",
    "        random_test_predictions = sess.run(\n",
    "            tf.nn.top_k(tf.nn.softmax(loaded_logits), top_n_predictions),\n",
    "            feed_dict={loaded_x: random_test_features, loaded_y: random_test_labels, loaded_keep_prob: 1.0})\n",
    "        helper.display_image_predictions(random_test_features, random_test_labels, random_test_predictions)\n",
    "\n",
    "\n",
    "test_model()"
   ]
  },
  {
   "cell_type": "markdown",
   "metadata": {
    "deletable": true,
    "editable": true
   },
   "source": [
    "## Why 50-70% Accuracy?\n",
    "You might be wondering why you can't get an accuracy any higher. First things first, 50% isn't bad for a simple CNN.  Pure guessing would get you 10% accuracy. However, you might notice people are getting scores [well above 70%](http://rodrigob.github.io/are_we_there_yet/build/classification_datasets_results.html#43494641522d3130).  That's because we haven't taught you all there is to know about neural networks. We still need to cover a few more techniques.\n",
    "## Submitting This Project\n",
    "When submitting this project, make sure to run all the cells before saving the notebook.  Save the notebook file as \"dlnd_image_classification.ipynb\" and save it as a HTML file under \"File\" -> \"Download as\".  Include the \"helper.py\" and \"problem_unittests.py\" files in your submission."
   ]
  }
 ],
 "metadata": {
  "anaconda-cloud": {},
  "kernelspec": {
   "display_name": "Python [Root]",
   "language": "python",
   "name": "Python [Root]"
  },
  "language_info": {
   "codemirror_mode": {
    "name": "ipython",
    "version": 3
   },
   "file_extension": ".py",
   "mimetype": "text/x-python",
   "name": "python",
   "nbconvert_exporter": "python",
   "pygments_lexer": "ipython3",
   "version": "3.5.2"
  }
 },
 "nbformat": 4,
 "nbformat_minor": 0
}
